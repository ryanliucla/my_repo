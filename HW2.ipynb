{
 "cells": [
  {
   "attachments": {},
   "cell_type": "markdown",
   "metadata": {},
   "source": [
    "# Stats 21 - HW 2"
   ]
  },
  {
   "attachments": {},
   "cell_type": "markdown",
   "metadata": {},
   "source": [
    "The questions have been entered into this document. You will modify the document by entering your code.\n",
    "\n",
    "Make sure you run the cell so the requested output is visible. Download the finished document as a PDF file. If you are unable to convert it to a PDF, you can download it as an HTML file and then print to PDF.\n",
    "\n",
    "**Homework is an opportunity to practice coding and to practice problem solving. Doing exercises is where you will do most of your learning.**\n",
    "\n",
    "**Copying someone else's solutions takes away your learning opportunities. It is also academic dishonesty.**"
   ]
  },
  {
   "attachments": {},
   "cell_type": "markdown",
   "metadata": {},
   "source": [
    "## Reading\n",
    "\n",
    "- Think Python: Chapters 6 through 10\n",
    "\n",
    "**Reading is important!** Keep up with the reading. I recommend alternating between reading a chapter and then working on exercises.\n",
    "\n",
    "Additional recommended reading:\n",
    "\n",
    "- String methods documentation https://docs.python.org/3/library/stdtypes.html#string-methods"
   ]
  },
  {
   "attachments": {},
   "cell_type": "markdown",
   "metadata": {},
   "source": [
    "## Textbook Chapter 5 Problems"
   ]
  },
  {
   "attachments": {},
   "cell_type": "markdown",
   "metadata": {},
   "source": [
    "## Exercise 5.1"
   ]
  },
  {
   "cell_type": "code",
   "execution_count": 19,
   "metadata": {},
   "outputs": [],
   "source": [
    "import time"
   ]
  },
  {
   "cell_type": "code",
   "execution_count": 20,
   "metadata": {},
   "outputs": [
    {
     "data": {
      "text/plain": [
       "1698009243.2364259"
      ]
     },
     "execution_count": 20,
     "metadata": {},
     "output_type": "execute_result"
    }
   ],
   "source": [
    "time.time()"
   ]
  },
  {
   "attachments": {},
   "cell_type": "markdown",
   "metadata": {},
   "source": [
    "Write a function `now()` that reads the current time and prints out the time of day in hours, minutes, and\n",
    "seconds, plus the number of days since the epoch. The function does not need to return a value, just print output to the screen.\n",
    "\n",
    "The result should look like:\n",
    "\n",
    "\"Current time is: 15:25:47. It has been 18370 days since the epoch.\"\n",
    "\n",
    "Use `int()` to drop decimal values. You do not need to try to find the date with years and months.\n",
    "\n",
    "Tip: build your function incrementally. Start by finding how many days have passed since the epoch. (check your answer at the bottom of the page: https://www.epochconverter.com/seconds-days-since-y0 )  From there find how many hours, etc. Keep in mind the hours will be UTC time."
   ]
  },
  {
   "cell_type": "code",
   "execution_count": 21,
   "metadata": {},
   "outputs": [],
   "source": [
    "def now():\n",
    "    total = time.time()\n",
    "    days = total // 60 // 60 // 24\n",
    "    hours = total // 60 // 60\n",
    "    h_now = hours - (hours//24)*24\n",
    "    mins = total // 60\n",
    "    m_now = mins - (mins//60)*60\n",
    "    secs = total // 1\n",
    "    s_now = secs - (secs//60)*60\n",
    "    print(\"Current time is: \" + str(int(h_now)) + \":\" + str(int(m_now)) + \":\" + str(int(s_now)) + \". It has been \" + str(int(days)) + \" days since the epoch.\")"
   ]
  },
  {
   "cell_type": "code",
   "execution_count": 22,
   "metadata": {},
   "outputs": [
    {
     "name": "stdout",
     "output_type": "stream",
     "text": [
      "Current time is: 21:14:6. It has been 19652 days since the epoch.\n"
     ]
    }
   ],
   "source": [
    "now()"
   ]
  },
  {
   "attachments": {},
   "cell_type": "markdown",
   "metadata": {},
   "source": [
    "## Textbook Chapter 6 Problems"
   ]
  },
  {
   "attachments": {},
   "cell_type": "markdown",
   "metadata": {},
   "source": [
    "## Exercise 6.2\n",
    "\n",
    "The Ackermann function, A(m, n), is deﬁned:\n",
    "\n",
    "$$\n",
    "A(m, n)= \\left \\{                 \n",
    "    \\begin{array}{ll}\n",
    "        n+1 & \\text{if } m = 0\\\\\n",
    "        A(m-1, 1) & \\text{if } m > 0 \\text{ and } n = 0\\\\\n",
    "        A(m-1, A(m, n-1)) & \\text{if } m > 0 \\text{ and } n > 0\\\\\n",
    "    \\end{array}\n",
    " \\right.\n",
    "$$\n",
    "\n",
    "\n",
    "See http://en.wikipedia.org/wiki/Ackermann_function . Write a function named `ack` that evaluates the Ackermann function. Use your function to evaluate a few test cases. Don't test with $m \\ge 4$ as it grows very fast very quickly."
   ]
  },
  {
   "cell_type": "code",
   "execution_count": 3,
   "metadata": {},
   "outputs": [],
   "source": [
    "def ack(m,n):\n",
    "    if m == 0:\n",
    "        return n+1\n",
    "    if m > 0 and n == 0:\n",
    "        return ack(m-1, 1)\n",
    "    if m > 0 and n > 0:\n",
    "        return ack(m-1, ack(m,n-1))"
   ]
  },
  {
   "cell_type": "code",
   "execution_count": 6,
   "metadata": {},
   "outputs": [
    {
     "data": {
      "text/plain": [
       "61"
      ]
     },
     "execution_count": 6,
     "metadata": {},
     "output_type": "execute_result"
    }
   ],
   "source": [
    "# test case, should be 61\n",
    "ack(3, 3)"
   ]
  },
  {
   "cell_type": "code",
   "execution_count": 5,
   "metadata": {},
   "outputs": [
    {
     "data": {
      "text/plain": [
       "125"
      ]
     },
     "execution_count": 5,
     "metadata": {},
     "output_type": "execute_result"
    }
   ],
   "source": [
    "# test case, should be 125\n",
    "ack(3, 4)"
   ]
  },
  {
   "attachments": {},
   "cell_type": "markdown",
   "metadata": {},
   "source": [
    "## Exercise 6.4\n",
    "\n",
    "A number, `a`, is a power of `b` if it is divisible by `b` and `a/b` is a power of `b`. Write a function called `is_power` that takes parameters `a` and `b` and returns `True` if a is a power of b. Note: you will have to think about the base case."
   ]
  },
  {
   "cell_type": "code",
   "execution_count": 11,
   "metadata": {},
   "outputs": [],
   "source": [
    "def is_power(a, b):\n",
    "    ans = False\n",
    "    if a == 1:\n",
    "        ans = True\n",
    "    if a%b == 0:\n",
    "        return is_power(a/b, b)\n",
    "    return ans"
   ]
  },
  {
   "cell_type": "code",
   "execution_count": 12,
   "metadata": {},
   "outputs": [
    {
     "data": {
      "text/plain": [
       "True"
      ]
     },
     "execution_count": 12,
     "metadata": {},
     "output_type": "execute_result"
    }
   ],
   "source": [
    "is_power(1024, 2)"
   ]
  },
  {
   "cell_type": "code",
   "execution_count": 13,
   "metadata": {},
   "outputs": [
    {
     "data": {
      "text/plain": [
       "True"
      ]
     },
     "execution_count": 13,
     "metadata": {},
     "output_type": "execute_result"
    }
   ],
   "source": [
    "is_power(6561, 3)"
   ]
  },
  {
   "cell_type": "code",
   "execution_count": 14,
   "metadata": {},
   "outputs": [
    {
     "data": {
      "text/plain": [
       "False"
      ]
     },
     "execution_count": 14,
     "metadata": {},
     "output_type": "execute_result"
    }
   ],
   "source": [
    "is_power(4374, 3)"
   ]
  },
  {
   "cell_type": "code",
   "execution_count": 15,
   "metadata": {},
   "outputs": [
    {
     "data": {
      "text/plain": [
       "False"
      ]
     },
     "execution_count": 15,
     "metadata": {},
     "output_type": "execute_result"
    }
   ],
   "source": [
    "is_power(768, 2)"
   ]
  },
  {
   "attachments": {},
   "cell_type": "markdown",
   "metadata": {},
   "source": [
    "## Exercise 6.5\n",
    "\n",
    "The greatest common divisor (GCD) of a and b is the largest number that divides both of them with no remainder.\n",
    "\n",
    "One way to ﬁnd the GCD of two numbers is based on the observation that if `r` is the remainder when `a` is divided by `b`, then `gcd(a, b) = gcd(b, r)`.\n",
    "\n",
    "As a base case, we can use `gcd(a, 0) = a`.\n",
    "\n",
    "Write a function called `gcd` that takes parameters `a` and `b` and returns their greatest common divisor."
   ]
  },
  {
   "cell_type": "code",
   "execution_count": 16,
   "metadata": {},
   "outputs": [],
   "source": [
    "def gcd(a, b):\n",
    "    if b == 0:\n",
    "        return a\n",
    "    return gcd(b, a%b)"
   ]
  },
  {
   "cell_type": "code",
   "execution_count": 17,
   "metadata": {},
   "outputs": [
    {
     "data": {
      "text/plain": [
       "7"
      ]
     },
     "execution_count": 17,
     "metadata": {},
     "output_type": "execute_result"
    }
   ],
   "source": [
    "gcd(21, 7)"
   ]
  },
  {
   "cell_type": "code",
   "execution_count": 18,
   "metadata": {},
   "outputs": [
    {
     "data": {
      "text/plain": [
       "14"
      ]
     },
     "execution_count": 18,
     "metadata": {},
     "output_type": "execute_result"
    }
   ],
   "source": [
    "gcd(42, 28)"
   ]
  },
  {
   "cell_type": "code",
   "execution_count": 19,
   "metadata": {},
   "outputs": [
    {
     "data": {
      "text/plain": [
       "35"
      ]
     },
     "execution_count": 19,
     "metadata": {},
     "output_type": "execute_result"
    }
   ],
   "source": [
    "gcd(105, 140)"
   ]
  },
  {
   "attachments": {},
   "cell_type": "markdown",
   "metadata": {},
   "source": [
    "## Textbook Chapter 7 Problems"
   ]
  },
  {
   "attachments": {},
   "cell_type": "markdown",
   "metadata": {},
   "source": [
    "## Exercise 7.1\n",
    "\n",
    "Copy the loop from Section 7.5 on square roots and encapsulate it into a function called `mysqrt()` that takes `a` as a parameter. For a starting value `x` use `a/2`. It then iterates through the code to estimate the square root of a value.\n",
    "\n",
    "Write another function called `test_square_root(start, end)` that will print out a table as shown in the textbook."
   ]
  },
  {
   "cell_type": "code",
   "execution_count": 1,
   "metadata": {},
   "outputs": [],
   "source": [
    "# write your code here\n",
    "import math\n",
    "def mysqrt(a):\n",
    "    epsilon = 0.0000001\n",
    "    x = a/2\n",
    "    while True:\n",
    "        y = (x + a/x) / 2\n",
    "        if y == x:\n",
    "            return x\n",
    "        x = y\n",
    "\n",
    "def test_square_root(start, end):\n",
    "    decimal = 7\n",
    "    print('a', ' '*1, 'mysqrt(a)', ' '*3, 'math.sqrt(a)', ' diff')\n",
    "    print('-', ' '*1, '-'*9, ' '*3, '-'*12, ' ' + '-'*4)\n",
    "    for i in range(9):\n",
    "        num = i+1\n",
    "        diff = math.sqrt(num) - mysqrt(num)\n",
    "        print(f'{num:.1f}', end=' ')\n",
    "        print(f'{mysqrt(num):<13.{decimal}f}', end=' ')\n",
    "        print(f'{math.sqrt(num):<13.{decimal}f}', end=' ')\n",
    "        print(f'{diff:.12g}')"
   ]
  },
  {
   "cell_type": "code",
   "execution_count": 2,
   "metadata": {
    "tags": [
     "raises-exception"
    ]
   },
   "outputs": [
    {
     "name": "stdout",
     "output_type": "stream",
     "text": [
      "a   mysqrt(a)     math.sqrt(a)  diff\n",
      "-   ---------     ------------  ----\n",
      "1.0 1.0000000     1.0000000     0\n",
      "2.0 1.4142136     1.4142136     2.22044604925e-16\n",
      "3.0 1.7320508     1.7320508     0\n",
      "4.0 2.0000000     2.0000000     0\n",
      "5.0 2.2360680     2.2360680     0\n",
      "6.0 2.4494897     2.4494897     0\n",
      "7.0 2.6457513     2.6457513     0\n",
      "8.0 2.8284271     2.8284271     4.4408920985e-16\n",
      "9.0 3.0000000     3.0000000     0\n"
     ]
    }
   ],
   "source": [
    "# test code, do not modify:\n",
    "test_square_root(1.0, 9.0)"
   ]
  },
  {
   "cell_type": "code",
   "execution_count": null,
   "metadata": {
    "tags": [
     "raises-exception"
    ]
   },
   "outputs": [],
   "source": [
    "test_square_root(30, 35)"
   ]
  },
  {
   "attachments": {},
   "cell_type": "markdown",
   "metadata": {},
   "source": [
    "## Textbook Chapter 9 Problems"
   ]
  },
  {
   "attachments": {},
   "cell_type": "markdown",
   "metadata": {},
   "source": [
    "## Exercise 9.1\n",
    "\n",
    "Download this list of words: http://thinkpython2.com/code/words.txt\n",
    "\n",
    "Write and run a script that reads `words.txt` and prints out only the words with more than 20\n",
    "characters (after stripping whitespace)."
   ]
  },
  {
   "cell_type": "code",
   "execution_count": 1,
   "metadata": {},
   "outputs": [
    {
     "name": "stdout",
     "output_type": "stream",
     "text": [
      "counterdemonstrations\n",
      "hyperaggressivenesses\n",
      "microminiaturizations\n"
     ]
    }
   ],
   "source": [
    "fin = open(\"words.txt\")\n",
    "for line in fin:\n",
    "    line = line.strip()\n",
    "    if len(line) > 20:\n",
    "        print(line)"
   ]
  },
  {
   "attachments": {},
   "cell_type": "markdown",
   "metadata": {},
   "source": [
    "## Exercise 9.2\n",
    "\n",
    "Write a function called `has_no_e` that returns True if the word doesn't have the letter e. You can use any of Pythons availble string methods."
   ]
  },
  {
   "cell_type": "code",
   "execution_count": 2,
   "metadata": {},
   "outputs": [],
   "source": [
    "def has_no_e(text):\n",
    "    return True if 'e' not in text else False"
   ]
  },
  {
   "cell_type": "code",
   "execution_count": 3,
   "metadata": {},
   "outputs": [
    {
     "data": {
      "text/plain": [
       "False"
      ]
     },
     "execution_count": 3,
     "metadata": {},
     "output_type": "execute_result"
    }
   ],
   "source": [
    "has_no_e(\"hello\")"
   ]
  },
  {
   "cell_type": "code",
   "execution_count": 4,
   "metadata": {},
   "outputs": [
    {
     "data": {
      "text/plain": [
       "True"
      ]
     },
     "execution_count": 4,
     "metadata": {},
     "output_type": "execute_result"
    }
   ],
   "source": [
    "has_no_e(\"quit\")"
   ]
  },
  {
   "attachments": {},
   "cell_type": "markdown",
   "metadata": {},
   "source": [
    "With your function, write a script. The script should read the list of words (`words.txt`), print out the number of words that do not have the letter 'e' and the proportion of words that do not have the letter 'e'"
   ]
  },
  {
   "cell_type": "code",
   "execution_count": 13,
   "metadata": {},
   "outputs": [
    {
     "name": "stdout",
     "output_type": "stream",
     "text": [
      "Number: 37641\n",
      "Proportion: 0.3307383423103621\n"
     ]
    }
   ],
   "source": [
    "fin = open(\"words.txt\")\n",
    "count = 0\n",
    "total = 0\n",
    "for word in fin:\n",
    "    total += 1\n",
    "    if has_no_e(word):\n",
    "        count += 1\n",
    "print(\"Number: \" + str(count))\n",
    "print(\"Proportion: \" + str(count/total))"
   ]
  },
  {
   "attachments": {},
   "cell_type": "markdown",
   "metadata": {},
   "source": [
    "## Textbook Chapter 10 Problems"
   ]
  },
  {
   "attachments": {},
   "cell_type": "markdown",
   "metadata": {},
   "source": [
    "## Exercise 10.1\n",
    "\n",
    "Write a function called `nested_sum` that takes a list of lists of integers and adds up\n",
    "the elements from all of the nested lists. For example:\n",
    "```\n",
    "t = [[1, 2], [3], [4, 5, 6]]\n",
    "nested_sum(t)\n",
    "21\n",
    "```\n",
    "You may want to build the function recursively in case there are many levels of nested lists.\n",
    "\n",
    "You can assume that all elements in any of the nested lists are numeric."
   ]
  },
  {
   "cell_type": "code",
   "execution_count": 9,
   "metadata": {},
   "outputs": [],
   "source": [
    "def nested_sum(t):\n",
    "    total = 0\n",
    "    for item in t:\n",
    "        if isinstance(item, list):\n",
    "            total += nested_sum(item)\n",
    "        else:\n",
    "            total += item\n",
    "    return total"
   ]
  },
  {
   "cell_type": "code",
   "execution_count": 10,
   "metadata": {},
   "outputs": [
    {
     "data": {
      "text/plain": [
       "3"
      ]
     },
     "execution_count": 10,
     "metadata": {},
     "output_type": "execute_result"
    }
   ],
   "source": [
    "t = [1, 2]\n",
    "nested_sum(t)"
   ]
  },
  {
   "cell_type": "code",
   "execution_count": 11,
   "metadata": {},
   "outputs": [
    {
     "data": {
      "text/plain": [
       "21"
      ]
     },
     "execution_count": 11,
     "metadata": {},
     "output_type": "execute_result"
    }
   ],
   "source": [
    "t = [[1, 2], [3], [4, 5, 6]]\n",
    "nested_sum(t)"
   ]
  },
  {
   "cell_type": "code",
   "execution_count": 12,
   "metadata": {},
   "outputs": [
    {
     "data": {
      "text/plain": [
       "36"
      ]
     },
     "execution_count": 12,
     "metadata": {},
     "output_type": "execute_result"
    }
   ],
   "source": [
    "x = [[1, 2, [3]], 4, 5, 6, [7], 8]\n",
    "nested_sum(x)"
   ]
  },
  {
   "cell_type": "code",
   "execution_count": 13,
   "metadata": {},
   "outputs": [
    {
     "data": {
      "text/plain": [
       "36"
      ]
     },
     "execution_count": 13,
     "metadata": {},
     "output_type": "execute_result"
    }
   ],
   "source": [
    "t = [[[1, 2, [3]], [4, [5, 6, [7]], 8]]]\n",
    "nested_sum(t)"
   ]
  },
  {
   "attachments": {},
   "cell_type": "markdown",
   "metadata": {},
   "source": [
    "## Exercise 10.2\n",
    "\n",
    "Write a function called `cumsum` that takes a list of numbers and returns the cumulative sum; that is, a new list where the ith element is the sum of the first i + 1 elements from the original list. \n",
    "\n",
    "For example:\n",
    "```\n",
    "t = [1, 2, 3]\n",
    "cumsum(t)\n",
    "[1, 3, 6]\n",
    "```\n",
    "\n",
    "You can assume that all elements in the lists are numeric and the list does not contain nested lists."
   ]
  },
  {
   "cell_type": "code",
   "execution_count": 6,
   "metadata": {},
   "outputs": [],
   "source": [
    "def cumsum(t):\n",
    "    x = []\n",
    "    for i in range(len(t)):\n",
    "        x.append(sum(t[:i+1]))\n",
    "    return x"
   ]
  },
  {
   "cell_type": "code",
   "execution_count": 7,
   "metadata": {},
   "outputs": [
    {
     "data": {
      "text/plain": [
       "[1, 3, 6, 10]"
      ]
     },
     "execution_count": 7,
     "metadata": {},
     "output_type": "execute_result"
    }
   ],
   "source": [
    "cumsum([1, 2, 3, 4])"
   ]
  },
  {
   "cell_type": "code",
   "execution_count": 8,
   "metadata": {},
   "outputs": [
    {
     "data": {
      "text/plain": [
       "[0, 1, 3, 6, 10, 15, 21, 28, 36, 45, 55, 66]"
      ]
     },
     "execution_count": 8,
     "metadata": {},
     "output_type": "execute_result"
    }
   ],
   "source": [
    "cumsum(range(12))"
   ]
  },
  {
   "attachments": {},
   "cell_type": "markdown",
   "metadata": {},
   "source": [
    "## Exercise 10.6\n",
    "\n",
    "Two words are anagrams if you can rearrange the letters from one to spell the other. Write a function called `is_anagram` that takes two strings and returns `True` if they are anagrams.\n",
    "\n",
    "You can remove spaces and convert to lowercase using `string.replace(\" \",\"\").lower()`"
   ]
  },
  {
   "cell_type": "code",
   "execution_count": 18,
   "metadata": {},
   "outputs": [],
   "source": [
    "def is_anagram(word1, word2):\n",
    "    x = word2.replace(\" \", \"\").lower()\n",
    "    for i in range(len(word1)):\n",
    "        if len(word1) != len(x) or word1.count(word1[i]) != x.count(word1[i]):\n",
    "            return False\n",
    "    return True"
   ]
  },
  {
   "cell_type": "code",
   "execution_count": 19,
   "metadata": {},
   "outputs": [
    {
     "data": {
      "text/plain": [
       "True"
      ]
     },
     "execution_count": 19,
     "metadata": {},
     "output_type": "execute_result"
    }
   ],
   "source": [
    "is_anagram(\"hello\", \"o hell\")"
   ]
  },
  {
   "cell_type": "code",
   "execution_count": 20,
   "metadata": {},
   "outputs": [
    {
     "data": {
      "text/plain": [
       "True"
      ]
     },
     "execution_count": 20,
     "metadata": {},
     "output_type": "execute_result"
    }
   ],
   "source": [
    "is_anagram(\"dormitory\" , \"dirty room\")"
   ]
  },
  {
   "cell_type": "code",
   "execution_count": 21,
   "metadata": {},
   "outputs": [
    {
     "data": {
      "text/plain": [
       "False"
      ]
     },
     "execution_count": 21,
     "metadata": {},
     "output_type": "execute_result"
    }
   ],
   "source": [
    "is_anagram(\"dormitory\" , \"dirty rooms\")"
   ]
  },
  {
   "cell_type": "code",
   "execution_count": 22,
   "metadata": {},
   "outputs": [
    {
     "data": {
      "text/plain": [
       "True"
      ]
     },
     "execution_count": 22,
     "metadata": {},
     "output_type": "execute_result"
    }
   ],
   "source": [
    "is_anagram(\"astronomers\" , \"moon starers\")"
   ]
  },
  {
   "attachments": {},
   "cell_type": "markdown",
   "metadata": {},
   "source": [
    "## Exercise 10.7\n",
    "\n",
    "Write a function called `has_duplicates` that takes a list and returns `True` if there is any element that appears more than once. It should not modify the original list.\n",
    "\n",
    "You can assume that the list will not have nested lists."
   ]
  },
  {
   "cell_type": "code",
   "execution_count": 4,
   "metadata": {},
   "outputs": [],
   "source": [
    "def has_duplicates(t):\n",
    "    for i in range(len(t)):\n",
    "        if t.count(t[i]) > 1:\n",
    "            return True\n",
    "    return False"
   ]
  },
  {
   "cell_type": "code",
   "execution_count": 5,
   "metadata": {},
   "outputs": [
    {
     "data": {
      "text/plain": [
       "False"
      ]
     },
     "execution_count": 5,
     "metadata": {},
     "output_type": "execute_result"
    }
   ],
   "source": [
    "has_duplicates(['a','b','c'])"
   ]
  },
  {
   "cell_type": "code",
   "execution_count": 6,
   "metadata": {},
   "outputs": [
    {
     "data": {
      "text/plain": [
       "True"
      ]
     },
     "execution_count": 6,
     "metadata": {},
     "output_type": "execute_result"
    }
   ],
   "source": [
    "has_duplicates(['a','b','b','c'])"
   ]
  },
  {
   "cell_type": "code",
   "execution_count": 7,
   "metadata": {},
   "outputs": [
    {
     "data": {
      "text/plain": [
       "True"
      ]
     },
     "execution_count": 7,
     "metadata": {},
     "output_type": "execute_result"
    }
   ],
   "source": [
    "has_duplicates(['a','b','c','a'])"
   ]
  },
  {
   "attachments": {},
   "cell_type": "markdown",
   "metadata": {},
   "source": [
    "## Exercise 10.10\n",
    "\n",
    "To check whether a word is in the word list, you could use the in operator, but it would be slow because it searches through the words in order.\n",
    "\n",
    "Because the words are in alphabetical order, we can speed things up with a bisection search (also known as binary search). You start in the middle and check to see whether the word you are looking for comes before the word in the middle of the list. If so, you search the first half of the list the same way (perform a bisection search on the first half). Otherwise you search the second half.\n",
    "\n",
    "Either way, you cut the remaining search space in half. If the word list has 113,809 words, it will\n",
    "take about 17 steps to find the word or conclude that it's not there. \n",
    "\n",
    "Write a function called `in_bisect` that takes a sorted list and a target word and will returns `True` if the word is in the list and `False` if it's not.\n",
    "\n",
    "Hint: it's a recursive function."
   ]
  },
  {
   "cell_type": "code",
   "execution_count": 5,
   "metadata": {},
   "outputs": [],
   "source": [
    "# Use this function. No need to rewrite it.\n",
    "def make_word_list():\n",
    "    \"\"\"Reads lines from a file and builds a list.\"\"\"\n",
    "    t = []\n",
    "    fin = open('words.txt')\n",
    "    for line in fin:\n",
    "        word = line.strip()\n",
    "        t.append(word)\n",
    "    return t\n",
    "\n",
    "t = make_word_list()"
   ]
  },
  {
   "cell_type": "code",
   "execution_count": 6,
   "metadata": {},
   "outputs": [],
   "source": [
    "# define this function\n",
    "def in_bisect(word_list, word):\n",
    "    if(len(word_list) == 0):\n",
    "        return False\n",
    "    index = len(word_list) // 2\n",
    "    if word_list[index] == word:\n",
    "        return True\n",
    "    if word > word_list[index]:\n",
    "        return in_bisect(word_list[index+1:], word)\n",
    "    else:\n",
    "        return in_bisect(word_list[:index], word)"
   ]
  },
  {
   "cell_type": "code",
   "execution_count": 7,
   "metadata": {},
   "outputs": [
    {
     "data": {
      "text/plain": [
       "True"
      ]
     },
     "execution_count": 7,
     "metadata": {},
     "output_type": "execute_result"
    }
   ],
   "source": [
    "in_bisect(t, \"hello\")"
   ]
  },
  {
   "cell_type": "code",
   "execution_count": 8,
   "metadata": {},
   "outputs": [
    {
     "data": {
      "text/plain": [
       "False"
      ]
     },
     "execution_count": 8,
     "metadata": {},
     "output_type": "execute_result"
    }
   ],
   "source": [
    "in_bisect(t, \"xyz\")"
   ]
  },
  {
   "attachments": {},
   "cell_type": "markdown",
   "metadata": {},
   "source": [
    "## Exercise 10.11 redo\n",
    "\n",
    "Two words are a \"reverse pair\" if each is the reverse of the other.\n",
    "\n",
    "Now that you have the `in_bisect` search, write a script that ﬁnds all the reverse pairs in the word list that are 6 letters or longer. (It takes a little bit of time to run.)"
   ]
  },
  {
   "cell_type": "code",
   "execution_count": 15,
   "metadata": {},
   "outputs": [
    {
     "name": "stdout",
     "output_type": "stream",
     "text": [
      "{'agenes': 'senega', 'animal': 'lamina', 'animes': 'semina', 'degami': 'imaged', 'deified': 'deified', 'deifier': 'reified', 'deliver': 'reviled', 'denier': 'reined', 'denies': 'seined', 'denned': 'denned', 'depots': 'stoped', 'derats': 'stared', 'dessert': 'tressed', 'desserts': 'stressed', 'dewans': 'snawed', 'dialer': 'relaid', 'diaper': 'repaid', 'dormin': 'nimrod', 'drawer': 'reward', 'elides': 'sedile', 'eviler': 'relive', 'gelder': 'redleg', 'halalah': 'halalah', 'hallah': 'hallah', 'imaged': 'degami', 'lamina': 'animal', 'levins': 'snivel', 'looter': 'retool', 'marram': 'marram', 'nimrod': 'dormin', 'pupils': 'slipup', 'recaps': 'spacer', 'redder': 'redder', 'redips': 'spider', 'redleg': 'gelder', 'redraw': 'warder', 'redrawer': 'rewarder', 'reflet': 'telfer', 'reflow': 'wolfer', 'reified': 'deifier', 'reifier': 'reifier', 'reined': 'denier', 'reknit': 'tinker', 'reknits': 'stinker', 'relaid': 'dialer', 'relive': 'eviler', 'remeet': 'teemer', 'rennet': 'tenner', 'repaid': 'diaper', 'repaper': 'repaper', 'repins': 'sniper', 'retool': 'looter', 'reviled': 'deliver', 'reviver': 'reviver', 'reward': 'drawer', 'rewarder': 'redrawer', 'rotator': 'rotator', 'sallets': 'stellas', 'scares': 'seracs', 'secret': 'terces', 'sedile': 'elides', 'seined': 'denies', 'selahs': 'shales', 'selles': 'selles', 'sememes': 'sememes', 'semina': 'animes', 'senega': 'agenes', 'seracs': 'scares', 'shales': 'selahs', 'skeets': 'steeks', 'sleeps': 'speels', 'sleets': 'steels', 'slipup': 'pupils', 'sloops': 'spools', 'snawed': 'dewans', 'sniper': 'repins', 'snivel': 'levins', 'snoops': 'spoons', 'spacer': 'recaps', 'speels': 'sleeps', 'spider': 'redips', 'spirts': 'strips', 'spools': 'sloops', 'spoons': 'snoops', 'sports': 'strops', 'sprits': 'stirps', 'stared': 'derats', 'steeks': 'skeets', 'steels': 'sleets', 'stellas': 'sallets', 'stinker': 'reknits', 'stirps': 'sprits', 'stoped': 'depots', 'stressed': 'desserts', 'strips': 'spirts', 'strops': 'sports', 'struts': 'sturts', 'sturts': 'struts', 'teemer': 'remeet', 'telfer': 'reflet', 'tenner': 'rennet', 'terces': 'secret', 'terret': 'terret', 'tinker': 'reknit', 'tressed': 'dessert', 'warder': 'redraw', 'wolfer': 'reflow'}\n"
     ]
    }
   ],
   "source": [
    "x = {}\n",
    "for i in range(len(t)):\n",
    "    if len(t[i]) >= 6 and in_bisect(t, t[i][::-1]):\n",
    "        x[t[i]] = t[i][::-1]\n",
    "print(x)"
   ]
  }
 ],
 "metadata": {
  "kernelspec": {
   "display_name": "Python 3 (ipykernel)",
   "language": "python",
   "name": "python3"
  },
  "language_info": {
   "codemirror_mode": {
    "name": "ipython",
    "version": 3
   },
   "file_extension": ".py",
   "mimetype": "text/x-python",
   "name": "python",
   "nbconvert_exporter": "python",
   "pygments_lexer": "ipython3",
   "version": "3.9.6"
  }
 },
 "nbformat": 4,
 "nbformat_minor": 4
}
