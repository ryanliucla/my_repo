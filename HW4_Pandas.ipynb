{
 "cells": [
  {
   "attachments": {},
   "cell_type": "markdown",
   "metadata": {},
   "source": [
    "# HW4: Occupation Dataset"
   ]
  },
  {
   "attachments": {},
   "cell_type": "markdown",
   "metadata": {},
   "source": [
    "### Introduction:\n",
    "\n",
    "Special thanks to: https://github.com/guipsamora for sharing his datasets, materials, and questions.\n",
    "\n",
    "- https://github.com/justmarkham for sharing the dataset and materials.\n"
   ]
  },
  {
   "cell_type": "code",
   "execution_count": 1,
   "metadata": {},
   "outputs": [],
   "source": [
    "### Import the necessary libraries\n",
    "import pandas as pd\n",
    "import matplotlib.pyplot as plt"
   ]
  },
  {
   "cell_type": "code",
   "execution_count": 12,
   "metadata": {},
   "outputs": [],
   "source": [
    "### I believe the following data set is from the US in the 1950s.\n",
    "### Gender proportions and ages are thus reflective of that era.\n",
    "### Import the dataset from this address. https://raw.githubusercontent.com/justmarkham/DAT8/master/data/u.user\n",
    "### Assign it to a variable called users and use the 'user_id' as index\n",
    "users = pd.read_csv('https://raw.githubusercontent.com/justmarkham/DAT8/master/data/u.user', \n",
    "                      sep='|', index_col='user_id')"
   ]
  },
  {
   "cell_type": "code",
   "execution_count": 13,
   "metadata": {},
   "outputs": [
    {
     "data": {
      "text/html": [
       "<div>\n",
       "<style scoped>\n",
       "    .dataframe tbody tr th:only-of-type {\n",
       "        vertical-align: middle;\n",
       "    }\n",
       "\n",
       "    .dataframe tbody tr th {\n",
       "        vertical-align: top;\n",
       "    }\n",
       "\n",
       "    .dataframe thead th {\n",
       "        text-align: right;\n",
       "    }\n",
       "</style>\n",
       "<table border=\"1\" class=\"dataframe\">\n",
       "  <thead>\n",
       "    <tr style=\"text-align: right;\">\n",
       "      <th></th>\n",
       "      <th>age</th>\n",
       "      <th>gender</th>\n",
       "      <th>occupation</th>\n",
       "      <th>zip_code</th>\n",
       "    </tr>\n",
       "    <tr>\n",
       "      <th>user_id</th>\n",
       "      <th></th>\n",
       "      <th></th>\n",
       "      <th></th>\n",
       "      <th></th>\n",
       "    </tr>\n",
       "  </thead>\n",
       "  <tbody>\n",
       "    <tr>\n",
       "      <th>1</th>\n",
       "      <td>24</td>\n",
       "      <td>M</td>\n",
       "      <td>technician</td>\n",
       "      <td>85711</td>\n",
       "    </tr>\n",
       "    <tr>\n",
       "      <th>2</th>\n",
       "      <td>53</td>\n",
       "      <td>F</td>\n",
       "      <td>other</td>\n",
       "      <td>94043</td>\n",
       "    </tr>\n",
       "    <tr>\n",
       "      <th>3</th>\n",
       "      <td>23</td>\n",
       "      <td>M</td>\n",
       "      <td>writer</td>\n",
       "      <td>32067</td>\n",
       "    </tr>\n",
       "    <tr>\n",
       "      <th>4</th>\n",
       "      <td>24</td>\n",
       "      <td>M</td>\n",
       "      <td>technician</td>\n",
       "      <td>43537</td>\n",
       "    </tr>\n",
       "    <tr>\n",
       "      <th>5</th>\n",
       "      <td>33</td>\n",
       "      <td>F</td>\n",
       "      <td>other</td>\n",
       "      <td>15213</td>\n",
       "    </tr>\n",
       "    <tr>\n",
       "      <th>6</th>\n",
       "      <td>42</td>\n",
       "      <td>M</td>\n",
       "      <td>executive</td>\n",
       "      <td>98101</td>\n",
       "    </tr>\n",
       "    <tr>\n",
       "      <th>7</th>\n",
       "      <td>57</td>\n",
       "      <td>M</td>\n",
       "      <td>administrator</td>\n",
       "      <td>91344</td>\n",
       "    </tr>\n",
       "    <tr>\n",
       "      <th>8</th>\n",
       "      <td>36</td>\n",
       "      <td>M</td>\n",
       "      <td>administrator</td>\n",
       "      <td>05201</td>\n",
       "    </tr>\n",
       "    <tr>\n",
       "      <th>9</th>\n",
       "      <td>29</td>\n",
       "      <td>M</td>\n",
       "      <td>student</td>\n",
       "      <td>01002</td>\n",
       "    </tr>\n",
       "    <tr>\n",
       "      <th>10</th>\n",
       "      <td>53</td>\n",
       "      <td>M</td>\n",
       "      <td>lawyer</td>\n",
       "      <td>90703</td>\n",
       "    </tr>\n",
       "  </tbody>\n",
       "</table>\n",
       "</div>"
      ],
      "text/plain": [
       "         age gender     occupation zip_code\n",
       "user_id                                    \n",
       "1         24      M     technician    85711\n",
       "2         53      F          other    94043\n",
       "3         23      M         writer    32067\n",
       "4         24      M     technician    43537\n",
       "5         33      F          other    15213\n",
       "6         42      M      executive    98101\n",
       "7         57      M  administrator    91344\n",
       "8         36      M  administrator    05201\n",
       "9         29      M        student    01002\n",
       "10        53      M         lawyer    90703"
      ]
     },
     "execution_count": 13,
     "metadata": {},
     "output_type": "execute_result"
    }
   ],
   "source": [
    "# Problem 1. See the first 10 entries. (done for you)\n",
    "users.head(10)"
   ]
  },
  {
   "cell_type": "code",
   "execution_count": 12,
   "metadata": {},
   "outputs": [
    {
     "name": "stdout",
     "output_type": "stream",
     "text": [
      "Observations: 943\n",
      "Columns: 4\n"
     ]
    }
   ],
   "source": [
    "# Problem 2. How many observations and columns are in the data?\n",
    "print('Observations: ' + str(len(users)))\n",
    "print('Columns: ' + str(len(users.columns)))"
   ]
  },
  {
   "cell_type": "code",
   "execution_count": 13,
   "metadata": {},
   "outputs": [
    {
     "name": "stdout",
     "output_type": "stream",
     "text": [
      "21\n"
     ]
    }
   ],
   "source": [
    "# Problem 3. How many different occupations there are in this dataset?\n",
    "print(len(pd.unique(users['occupation'])))"
   ]
  },
  {
   "cell_type": "code",
   "execution_count": 39,
   "metadata": {},
   "outputs": [
    {
     "data": {
      "text/plain": [
       "'student'"
      ]
     },
     "execution_count": 39,
     "metadata": {},
     "output_type": "execute_result"
    }
   ],
   "source": [
    "# Problem 4. What is the most frequent occupation?\n",
    "users['occupation'].value_counts().index[0]"
   ]
  },
  {
   "cell_type": "code",
   "execution_count": 42,
   "metadata": {},
   "outputs": [
    {
     "data": {
      "text/plain": [
       "occupation\n",
       "student          22.081633\n",
       "none             26.555556\n",
       "entertainment    29.222222\n",
       "artist           31.392857\n",
       "homemaker        32.571429\n",
       "programmer       33.121212\n",
       "technician       33.148148\n",
       "other            34.523810\n",
       "scientist        35.548387\n",
       "salesman         35.666667\n",
       "writer           36.311111\n",
       "engineer         36.388060\n",
       "lawyer           36.750000\n",
       "marketing        37.615385\n",
       "executive        38.718750\n",
       "administrator    38.746835\n",
       "librarian        40.000000\n",
       "healthcare       41.562500\n",
       "educator         42.010526\n",
       "doctor           43.571429\n",
       "retired          63.071429\n",
       "Name: age, dtype: float64"
      ]
     },
     "execution_count": 42,
     "metadata": {},
     "output_type": "execute_result"
    }
   ],
   "source": [
    "# Problem 5. Discover what is the mean age per occupation.\n",
    "# Sort the results and find the 3 occupations with the lowest mean age and the 3 with the highest\n",
    "users['age'].groupby(users['occupation']).mean().sort_values()"
   ]
  },
  {
   "attachments": {},
   "cell_type": "markdown",
   "metadata": {},
   "source": [
    "Occupations with 3 lowest: student, none, entertainment.\n",
    "Occupations with 3 highest: educator, doctor, retired."
   ]
  },
  {
   "cell_type": "code",
   "execution_count": 46,
   "metadata": {},
   "outputs": [
    {
     "data": {
      "text/plain": [
       "occupation\n",
       "doctor           1.000000\n",
       "engineer         0.970149\n",
       "technician       0.962963\n",
       "retired          0.928571\n",
       "programmer       0.909091\n",
       "executive        0.906250\n",
       "scientist        0.903226\n",
       "entertainment    0.888889\n",
       "lawyer           0.833333\n",
       "salesman         0.750000\n",
       "educator         0.726316\n",
       "student          0.693878\n",
       "other            0.657143\n",
       "marketing        0.615385\n",
       "writer           0.577778\n",
       "none             0.555556\n",
       "administrator    0.544304\n",
       "artist           0.535714\n",
       "librarian        0.431373\n",
       "healthcare       0.312500\n",
       "homemaker        0.142857\n",
       "Name: gender, dtype: float64"
      ]
     },
     "execution_count": 46,
     "metadata": {},
     "output_type": "execute_result"
    }
   ],
   "source": [
    "# Problem 6. Find the proportion of males by occupation and sort it from the most to the least\n",
    "(users['gender'] == 'M').groupby(users['occupation']).mean().sort_values(ascending = False)"
   ]
  },
  {
   "cell_type": "code",
   "execution_count": 49,
   "metadata": {},
   "outputs": [
    {
     "data": {
      "text/html": [
       "<div>\n",
       "<style scoped>\n",
       "    .dataframe tbody tr th:only-of-type {\n",
       "        vertical-align: middle;\n",
       "    }\n",
       "\n",
       "    .dataframe tbody tr th {\n",
       "        vertical-align: top;\n",
       "    }\n",
       "\n",
       "    .dataframe thead th {\n",
       "        text-align: right;\n",
       "    }\n",
       "</style>\n",
       "<table border=\"1\" class=\"dataframe\">\n",
       "  <thead>\n",
       "    <tr style=\"text-align: right;\">\n",
       "      <th></th>\n",
       "      <th>min</th>\n",
       "      <th>max</th>\n",
       "    </tr>\n",
       "    <tr>\n",
       "      <th>occupation</th>\n",
       "      <th></th>\n",
       "      <th></th>\n",
       "    </tr>\n",
       "  </thead>\n",
       "  <tbody>\n",
       "    <tr>\n",
       "      <th>administrator</th>\n",
       "      <td>21</td>\n",
       "      <td>70</td>\n",
       "    </tr>\n",
       "    <tr>\n",
       "      <th>artist</th>\n",
       "      <td>19</td>\n",
       "      <td>48</td>\n",
       "    </tr>\n",
       "    <tr>\n",
       "      <th>doctor</th>\n",
       "      <td>28</td>\n",
       "      <td>64</td>\n",
       "    </tr>\n",
       "    <tr>\n",
       "      <th>educator</th>\n",
       "      <td>23</td>\n",
       "      <td>63</td>\n",
       "    </tr>\n",
       "    <tr>\n",
       "      <th>engineer</th>\n",
       "      <td>22</td>\n",
       "      <td>70</td>\n",
       "    </tr>\n",
       "    <tr>\n",
       "      <th>entertainment</th>\n",
       "      <td>15</td>\n",
       "      <td>50</td>\n",
       "    </tr>\n",
       "    <tr>\n",
       "      <th>executive</th>\n",
       "      <td>22</td>\n",
       "      <td>69</td>\n",
       "    </tr>\n",
       "    <tr>\n",
       "      <th>healthcare</th>\n",
       "      <td>22</td>\n",
       "      <td>62</td>\n",
       "    </tr>\n",
       "    <tr>\n",
       "      <th>homemaker</th>\n",
       "      <td>20</td>\n",
       "      <td>50</td>\n",
       "    </tr>\n",
       "    <tr>\n",
       "      <th>lawyer</th>\n",
       "      <td>21</td>\n",
       "      <td>53</td>\n",
       "    </tr>\n",
       "    <tr>\n",
       "      <th>librarian</th>\n",
       "      <td>23</td>\n",
       "      <td>69</td>\n",
       "    </tr>\n",
       "    <tr>\n",
       "      <th>marketing</th>\n",
       "      <td>24</td>\n",
       "      <td>55</td>\n",
       "    </tr>\n",
       "    <tr>\n",
       "      <th>none</th>\n",
       "      <td>11</td>\n",
       "      <td>55</td>\n",
       "    </tr>\n",
       "    <tr>\n",
       "      <th>other</th>\n",
       "      <td>13</td>\n",
       "      <td>64</td>\n",
       "    </tr>\n",
       "    <tr>\n",
       "      <th>programmer</th>\n",
       "      <td>20</td>\n",
       "      <td>63</td>\n",
       "    </tr>\n",
       "    <tr>\n",
       "      <th>retired</th>\n",
       "      <td>51</td>\n",
       "      <td>73</td>\n",
       "    </tr>\n",
       "    <tr>\n",
       "      <th>salesman</th>\n",
       "      <td>18</td>\n",
       "      <td>66</td>\n",
       "    </tr>\n",
       "    <tr>\n",
       "      <th>scientist</th>\n",
       "      <td>23</td>\n",
       "      <td>55</td>\n",
       "    </tr>\n",
       "    <tr>\n",
       "      <th>student</th>\n",
       "      <td>7</td>\n",
       "      <td>42</td>\n",
       "    </tr>\n",
       "    <tr>\n",
       "      <th>technician</th>\n",
       "      <td>21</td>\n",
       "      <td>55</td>\n",
       "    </tr>\n",
       "    <tr>\n",
       "      <th>writer</th>\n",
       "      <td>18</td>\n",
       "      <td>60</td>\n",
       "    </tr>\n",
       "  </tbody>\n",
       "</table>\n",
       "</div>"
      ],
      "text/plain": [
       "               min  max\n",
       "occupation             \n",
       "administrator   21   70\n",
       "artist          19   48\n",
       "doctor          28   64\n",
       "educator        23   63\n",
       "engineer        22   70\n",
       "entertainment   15   50\n",
       "executive       22   69\n",
       "healthcare      22   62\n",
       "homemaker       20   50\n",
       "lawyer          21   53\n",
       "librarian       23   69\n",
       "marketing       24   55\n",
       "none            11   55\n",
       "other           13   64\n",
       "programmer      20   63\n",
       "retired         51   73\n",
       "salesman        18   66\n",
       "scientist       23   55\n",
       "student          7   42\n",
       "technician      21   55\n",
       "writer          18   60"
      ]
     },
     "execution_count": 49,
     "metadata": {},
     "output_type": "execute_result"
    }
   ],
   "source": [
    "# Problem 7. For each occupation, calculate the minimum and maximum ages\n",
    "# See groupby and agg() to perform multiple aggregate functions at once\n",
    "users['age'].groupby(users['occupation']).agg(['min', 'max'])"
   ]
  },
  {
   "cell_type": "code",
   "execution_count": 74,
   "metadata": {},
   "outputs": [
    {
     "name": "stdout",
     "output_type": "stream",
     "text": [
      "gender                 F          M\n",
      "occupation                         \n",
      "doctor          0.000000  43.571429\n",
      "student        20.750000  22.669118\n",
      "salesman       27.000000  38.555556\n",
      "scientist      28.333333  36.321429\n",
      "engineer       29.500000  36.600000\n",
      "artist         30.307692  32.333333\n",
      "entertainment  31.000000  29.000000\n",
      "programmer     32.166667  33.216667\n",
      "homemaker      34.166667  23.000000\n",
      "other          35.472222  34.028986\n",
      "none           36.500000  18.600000\n",
      "marketing      37.200000  37.875000\n",
      "writer         37.631579  35.346154\n",
      "technician     38.000000  32.961538\n",
      "educator       39.115385  43.101449\n",
      "lawyer         39.500000  36.200000\n",
      "healthcare     39.818182  45.400000\n",
      "librarian      40.000000  40.000000\n",
      "administrator  40.638889  37.162791\n",
      "executive      44.000000  38.172414\n",
      "retired        70.000000  62.538462\n"
     ]
    }
   ],
   "source": [
    "# Problem 8. For each combination of occupation and gender, calculate the mean age.\n",
    "# Arrange the results in a table so each row is an occupation, and you have a \n",
    "# column of the average male age and another column with the average female age.\n",
    "# Sort the resulting table by Female mean age from least to greatest\n",
    "\n",
    "x = users.groupby(['occupation', 'gender'])['age'].mean().reset_index()\n",
    "pivot_table = x.pivot(index='occupation', columns='gender', values='age').fillna(0).sort_values('F')\n",
    "print(pivot_table)"
   ]
  },
  {
   "cell_type": "code",
   "execution_count": 72,
   "metadata": {},
   "outputs": [
    {
     "name": "stdout",
     "output_type": "stream",
     "text": [
      "gender          F    M\n",
      "occupation            \n",
      "administrator  36   43\n",
      "artist         13   15\n",
      "doctor          0    7\n",
      "educator       26   69\n",
      "engineer        2   65\n",
      "entertainment   2   16\n",
      "executive       3   29\n",
      "healthcare     11    5\n",
      "homemaker       6    1\n",
      "lawyer          2   10\n",
      "librarian      29   22\n",
      "marketing      10   16\n",
      "none            4    5\n",
      "other          36   69\n",
      "programmer      6   60\n",
      "retired         1   13\n",
      "salesman        3    9\n",
      "scientist       3   28\n",
      "student        60  136\n",
      "technician      1   26\n",
      "writer         19   26\n"
     ]
    }
   ],
   "source": [
    "# Problem 9. For each occupation find the count of women and men\n",
    "# Arrange the results in a table so each row is an occupation, similar to above\n",
    "count_by_occupation_gender = users.groupby(['occupation', 'gender']).size().reset_index(name='count')\n",
    "pivot_table = count_by_occupation_gender.pivot_table(index='occupation', columns='gender', values='count', fill_value=0)\n",
    "print(pivot_table)"
   ]
  },
  {
   "cell_type": "code",
   "execution_count": 77,
   "metadata": {},
   "outputs": [
    {
     "name": "stdout",
     "output_type": "stream",
     "text": [
      "gender                F         M\n",
      "occupation                       \n",
      "administrator  0.455696  0.544304\n",
      "artist         0.464286  0.535714\n",
      "doctor         0.000000  1.000000\n",
      "educator       0.273684  0.726316\n",
      "engineer       0.029851  0.970149\n",
      "entertainment  0.111111  0.888889\n",
      "executive      0.093750  0.906250\n",
      "healthcare     0.687500  0.312500\n",
      "homemaker      0.857143  0.142857\n",
      "lawyer         0.166667  0.833333\n",
      "librarian      0.568627  0.431373\n",
      "marketing      0.384615  0.615385\n",
      "none           0.444444  0.555556\n",
      "other          0.342857  0.657143\n",
      "programmer     0.090909  0.909091\n",
      "retired        0.071429  0.928571\n",
      "salesman       0.250000  0.750000\n",
      "scientist      0.096774  0.903226\n",
      "student        0.306122  0.693878\n",
      "technician     0.037037  0.962963\n",
      "writer         0.422222  0.577778\n"
     ]
    }
   ],
   "source": [
    "# Problem 10. Turn the counts above into proportions. e.g administrator 0.455696 0.544304\n",
    "# Arrange results in increasing order of proportion men\n",
    "count_by_occupation_gender = users.groupby(['occupation', 'gender']).size().reset_index(name='count')\n",
    "pivot_table = count_by_occupation_gender.pivot_table(index='occupation', columns='gender', values='count', fill_value=0)\n",
    "proportions = pivot_table.div(pivot_table.sum(axis=1), axis=0)\n",
    "print(proportions)"
   ]
  },
  {
   "cell_type": "code",
   "execution_count": 81,
   "metadata": {},
   "outputs": [
    {
     "data": {
      "image/png": "[encoded data removed]",
      "text/plain": [
       "<Figure size 640x480 with 1 Axes>"
      ]
     },
     "metadata": {},
     "output_type": "display_data"
    }
   ],
   "source": [
    "# Create a stacked barchart showing the results above\n",
    "ax = proportions.plot(kind = 'bar', stacked = True)\n",
    "ax.set_ylabel('Proportion')\n",
    "ax.set_title('Male and Female Job Proportions')\n",
    "plt.show()"
   ]
  },
  {
   "cell_type": "code",
   "execution_count": 21,
   "metadata": {},
   "outputs": [],
   "source": [
    "# Extract the first digit of each zip code \n",
    "# and create a new column called 'region' that maps the\n",
    "# first digit of the zip to new values using this dictionary:\n",
    "d = {'0': 'New England',\n",
    "'1': 'Mid-Atlantic',\n",
    "'2': 'Central East Coast',\n",
    "'3': 'The South',\n",
    "'4': 'Midwest',\n",
    "'5': 'Northern Great Plains',\n",
    "'6': 'Central Great Plains',\n",
    "'7': 'Southern Central',\n",
    "'8': 'Mountain Desert',\n",
    "'9': 'West Coast'} \n",
    "\n",
    "# print the first 5 rows of the result\n",
    "# postal codes that begin with a letter are actually Canadian but are missing the last digit. These rows can be ignored."
   ]
  },
  {
   "cell_type": "code",
   "execution_count": 39,
   "metadata": {},
   "outputs": [
    {
     "data": {
      "text/html": [
       "<div>\n",
       "<style scoped>\n",
       "    .dataframe tbody tr th:only-of-type {\n",
       "        vertical-align: middle;\n",
       "    }\n",
       "\n",
       "    .dataframe tbody tr th {\n",
       "        vertical-align: top;\n",
       "    }\n",
       "\n",
       "    .dataframe thead th {\n",
       "        text-align: right;\n",
       "    }\n",
       "</style>\n",
       "<table border=\"1\" class=\"dataframe\">\n",
       "  <thead>\n",
       "    <tr style=\"text-align: right;\">\n",
       "      <th></th>\n",
       "      <th>age</th>\n",
       "      <th>gender</th>\n",
       "      <th>occupation</th>\n",
       "      <th>zip_code</th>\n",
       "      <th>region</th>\n",
       "    </tr>\n",
       "    <tr>\n",
       "      <th>user_id</th>\n",
       "      <th></th>\n",
       "      <th></th>\n",
       "      <th></th>\n",
       "      <th></th>\n",
       "      <th></th>\n",
       "    </tr>\n",
       "  </thead>\n",
       "  <tbody>\n",
       "    <tr>\n",
       "      <th>1</th>\n",
       "      <td>24</td>\n",
       "      <td>M</td>\n",
       "      <td>technician</td>\n",
       "      <td>85711</td>\n",
       "      <td>Mountain Desert</td>\n",
       "    </tr>\n",
       "    <tr>\n",
       "      <th>2</th>\n",
       "      <td>53</td>\n",
       "      <td>F</td>\n",
       "      <td>other</td>\n",
       "      <td>94043</td>\n",
       "      <td>West Coast</td>\n",
       "    </tr>\n",
       "    <tr>\n",
       "      <th>3</th>\n",
       "      <td>23</td>\n",
       "      <td>M</td>\n",
       "      <td>writer</td>\n",
       "      <td>32067</td>\n",
       "      <td>The South</td>\n",
       "    </tr>\n",
       "    <tr>\n",
       "      <th>4</th>\n",
       "      <td>24</td>\n",
       "      <td>M</td>\n",
       "      <td>technician</td>\n",
       "      <td>43537</td>\n",
       "      <td>Midwest</td>\n",
       "    </tr>\n",
       "    <tr>\n",
       "      <th>5</th>\n",
       "      <td>33</td>\n",
       "      <td>F</td>\n",
       "      <td>other</td>\n",
       "      <td>15213</td>\n",
       "      <td>Mid-Atlantic</td>\n",
       "    </tr>\n",
       "  </tbody>\n",
       "</table>\n",
       "</div>"
      ],
      "text/plain": [
       "         age gender  occupation zip_code           region\n",
       "user_id                                                  \n",
       "1         24      M  technician    85711  Mountain Desert\n",
       "2         53      F       other    94043       West Coast\n",
       "3         23      M      writer    32067        The South\n",
       "4         24      M  technician    43537          Midwest\n",
       "5         33      F       other    15213     Mid-Atlantic"
      ]
     },
     "execution_count": 39,
     "metadata": {},
     "output_type": "execute_result"
    }
   ],
   "source": [
    "x = users['zip_code'].copy()\n",
    "region = []\n",
    "count = []\n",
    "for i in range(len(users)):\n",
    "    x.iloc[i] = x.iloc[i][0]\n",
    "    if x.iloc[i] in d:\n",
    "        region.append(d[x.iloc[i]])\n",
    "    else:\n",
    "        region.append(None)\n",
    "users['region'] = region\n",
    "users.head()"
   ]
  },
  {
   "cell_type": "code",
   "execution_count": 44,
   "metadata": {},
   "outputs": [
    {
     "data": {
      "text/html": [
       "<div>\n",
       "<style scoped>\n",
       "    .dataframe tbody tr th:only-of-type {\n",
       "        vertical-align: middle;\n",
       "    }\n",
       "\n",
       "    .dataframe tbody tr th {\n",
       "        vertical-align: top;\n",
       "    }\n",
       "\n",
       "    .dataframe thead th {\n",
       "        text-align: right;\n",
       "    }\n",
       "</style>\n",
       "<table border=\"1\" class=\"dataframe\">\n",
       "  <thead>\n",
       "    <tr style=\"text-align: right;\">\n",
       "      <th>region</th>\n",
       "      <th>Central East Coast</th>\n",
       "      <th>Central Great Plains</th>\n",
       "      <th>Mid-Atlantic</th>\n",
       "      <th>Midwest</th>\n",
       "      <th>New England</th>\n",
       "      <th>Northern Great Plains</th>\n",
       "      <th>The South</th>\n",
       "      <th>West Coast</th>\n",
       "    </tr>\n",
       "    <tr>\n",
       "      <th>occupation</th>\n",
       "      <th></th>\n",
       "      <th></th>\n",
       "      <th></th>\n",
       "      <th></th>\n",
       "      <th></th>\n",
       "      <th></th>\n",
       "      <th></th>\n",
       "      <th></th>\n",
       "    </tr>\n",
       "  </thead>\n",
       "  <tbody>\n",
       "    <tr>\n",
       "      <th>retired</th>\n",
       "      <td>60.0</td>\n",
       "      <td>59.5</td>\n",
       "      <td>60.0</td>\n",
       "      <td>69.0</td>\n",
       "      <td>65.0</td>\n",
       "      <td>61.0</td>\n",
       "      <td>73.0</td>\n",
       "      <td>60.5</td>\n",
       "    </tr>\n",
       "  </tbody>\n",
       "</table>\n",
       "</div>"
      ],
      "text/plain": [
       "region      Central East Coast  Central Great Plains  Mid-Atlantic  Midwest  \\\n",
       "occupation                                                                    \n",
       "retired                   60.0                  59.5          60.0     69.0   \n",
       "\n",
       "region      New England  Northern Great Plains  The South  West Coast  \n",
       "occupation                                                             \n",
       "retired            65.0                   61.0       73.0        60.5  "
      ]
     },
     "execution_count": 44,
     "metadata": {},
     "output_type": "execute_result"
    }
   ],
   "source": [
    "# for the occuptation 'retired', find the mean age of each region\n",
    "users[users['occupation'] == 'retired'].pivot_table(index = 'occupation', columns = 'region', values = 'age', aggfunc = 'mean')"
   ]
  }
 ],
 "metadata": {
  "kernelspec": {
   "display_name": "Python 3",
   "language": "python",
   "name": "python3"
  },
  "language_info": {
   "codemirror_mode": {
    "name": "ipython",
    "version": 3
   },
   "file_extension": ".py",
   "mimetype": "text/x-python",
   "name": "python",
   "nbconvert_exporter": "python",
   "pygments_lexer": "ipython3",
   "version": "3.9.6"
  }
 },
 "nbformat": 4,
 "nbformat_minor": 4
}
