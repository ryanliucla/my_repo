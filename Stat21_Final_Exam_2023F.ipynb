{
 "cells": [
  {
   "attachments": {},
   "cell_type": "markdown",
   "id": "diagnostic-paint",
   "metadata": {},
   "source": [
    "# Stats 21 Final Exam - Dec 15 2023"
   ]
  },
  {
   "attachments": {},
   "cell_type": "markdown",
   "id": "australian-empty",
   "metadata": {},
   "source": [
    "### Academic Integrity\n",
    "\n",
    "This is a final exam. You are not allowed to communicate with other students during the exam. No collaboration allowed.\n",
    "\n",
    "Sharing any portion of this exam, even after the course ends, is a violation of the UCLA code of conduct.\n",
    "\n",
    "If you are not enrolled in Stats 21 during Fall 2023, using this file to study for Stats 21 is a violation of the UCLA code of conduct.\n",
    "\n",
    "To acknowledge that you have read this, type your name in the following markdown box."
   ]
  },
  {
   "attachments": {},
   "cell_type": "markdown",
   "id": "stone-twins",
   "metadata": {},
   "source": [
    "I have read the above statements. Your name: Ryan Liu"
   ]
  },
  {
   "attachments": {},
   "cell_type": "markdown",
   "id": "signal-clear",
   "metadata": {},
   "source": [
    "# Part 0 - Import Data"
   ]
  },
  {
   "attachments": {},
   "cell_type": "markdown",
   "id": "64427412-a39b-433d-aab6-c80639246612",
   "metadata": {},
   "source": [
    "I found the following data from a weekly newsletter titled \"Data is Plural.\" https://www.data-is-plural.com/archive/\n",
    "\n",
    "You will work with a bit of silly, but perhaps fun data compiled by Alice Y. Liang. https://aliceyliang.com/ An article corresponding to her findings can be read here: https://pudding.cool/2023/10/romance-covers/\n",
    "\n",
    "The data looks at covers of 1400+ romance novels published between 2011 and 2023. \n",
    "\n",
    "The data's variables include:\n",
    "\n",
    "- book title\n",
    "- author\n",
    "- publisher\n",
    "- publication date\n",
    "- announcement year/season\n",
    "- description\n",
    "- ISBN\n",
    "- urls of the cover image and thumbnails\n",
    "- whether cover style is photorealistic or illustrated\n",
    "- whether cover features a partially undressed man\n",
    "- whether cover features a partially undressed woman\n",
    "- whether it depicts at least one person of color"
   ]
  },
  {
   "cell_type": "code",
   "execution_count": 2,
   "id": "eb05020d-f33f-421e-85d3-840337b20272",
   "metadata": {},
   "outputs": [],
   "source": [
    "import pandas as pd\n",
    "import numpy as np\n",
    "import matplotlib.pyplot as plt"
   ]
  },
  {
   "cell_type": "code",
   "execution_count": 80,
   "id": "dcd16575-1ece-4d7b-a0c1-5a92e55a1137",
   "metadata": {},
   "outputs": [],
   "source": [
    "covers = pd.read_csv('romance_covers.csv')"
   ]
  },
  {
   "cell_type": "code",
   "execution_count": 81,
   "id": "455ba67f-b858-4578-8613-396c09296570",
   "metadata": {},
   "outputs": [
    {
     "data": {
      "text/plain": [
       "(1435, 21)"
      ]
     },
     "execution_count": 81,
     "metadata": {},
     "output_type": "execute_result"
    }
   ],
   "source": [
    "covers.shape"
   ]
  },
  {
   "cell_type": "code",
   "execution_count": 82,
   "id": "bf23ad8a-4208-4581-ace7-a9640dfb1005",
   "metadata": {},
   "outputs": [
    {
     "data": {
      "text/plain": [
       "Index(['year', 'season', 'season_order', 'title', 'author', 'publisher',\n",
       "       'date', 'description', 'ISBN', 'Github permalink', 'google_thumbnail',\n",
       "       'google_smallThumbnail', 'Cover URL override', 'cover_url',\n",
       "       'Github thumbnail', 'Cover', 'Style', 'Man partially unclothed',\n",
       "       'Woman partially unclothed', 'Has POC', 'Unnamed: 20'],\n",
       "      dtype='object')"
      ]
     },
     "execution_count": 82,
     "metadata": {},
     "output_type": "execute_result"
    }
   ],
   "source": [
    "covers.columns"
   ]
  },
  {
   "cell_type": "code",
   "execution_count": 83,
   "id": "1256a2b3-3b49-437e-a14e-cca635f91581",
   "metadata": {},
   "outputs": [
    {
     "data": {
      "text/html": [
       "<div>\n",
       "<style scoped>\n",
       "    .dataframe tbody tr th:only-of-type {\n",
       "        vertical-align: middle;\n",
       "    }\n",
       "\n",
       "    .dataframe tbody tr th {\n",
       "        vertical-align: top;\n",
       "    }\n",
       "\n",
       "    .dataframe thead th {\n",
       "        text-align: right;\n",
       "    }\n",
       "</style>\n",
       "<table border=\"1\" class=\"dataframe\">\n",
       "  <thead>\n",
       "    <tr style=\"text-align: right;\">\n",
       "      <th></th>\n",
       "      <th>year</th>\n",
       "      <th>season</th>\n",
       "      <th>season_order</th>\n",
       "      <th>title</th>\n",
       "      <th>author</th>\n",
       "      <th>publisher</th>\n",
       "      <th>date</th>\n",
       "      <th>description</th>\n",
       "      <th>ISBN</th>\n",
       "      <th>Github permalink</th>\n",
       "      <th>...</th>\n",
       "      <th>google_smallThumbnail</th>\n",
       "      <th>Cover URL override</th>\n",
       "      <th>cover_url</th>\n",
       "      <th>Github thumbnail</th>\n",
       "      <th>Cover</th>\n",
       "      <th>Style</th>\n",
       "      <th>Man partially unclothed</th>\n",
       "      <th>Woman partially unclothed</th>\n",
       "      <th>Has POC</th>\n",
       "      <th>Unnamed: 20</th>\n",
       "    </tr>\n",
       "  </thead>\n",
       "  <tbody>\n",
       "    <tr>\n",
       "      <th>0</th>\n",
       "      <td>2011</td>\n",
       "      <td>Spring</td>\n",
       "      <td>1</td>\n",
       "      <td>Too Rich for a Bride</td>\n",
       "      <td>Mona Hodgson</td>\n",
       "      <td>Waterbrook</td>\n",
       "      <td>5/1/2011</td>\n",
       "      <td>NaN</td>\n",
       "      <td>9780307458926</td>\n",
       "      <td>https://raw.githubusercontent.com/the-pudding/...</td>\n",
       "      <td>...</td>\n",
       "      <td>http://books.google.com/books/content?id=S8dvD...</td>\n",
       "      <td>NaN</td>\n",
       "      <td>http://books.google.com/books/content?id=S8dvD...</td>\n",
       "      <td>NaN</td>\n",
       "      <td>NaN</td>\n",
       "      <td>Photorealistic</td>\n",
       "      <td>False</td>\n",
       "      <td>False</td>\n",
       "      <td>False</td>\n",
       "      <td>NaN</td>\n",
       "    </tr>\n",
       "    <tr>\n",
       "      <th>1</th>\n",
       "      <td>2011</td>\n",
       "      <td>Spring</td>\n",
       "      <td>1</td>\n",
       "      <td>Breaking the Rules</td>\n",
       "      <td>Suzanne Brockmann</td>\n",
       "      <td>Ballantine</td>\n",
       "      <td>4/1/2011</td>\n",
       "      <td>NaN</td>\n",
       "      <td>9780345521231</td>\n",
       "      <td>https://raw.githubusercontent.com/the-pudding/...</td>\n",
       "      <td>...</td>\n",
       "      <td>http://books.google.com/books/content?id=TPmrb...</td>\n",
       "      <td>NaN</td>\n",
       "      <td>http://books.google.com/books/content?id=TPmrb...</td>\n",
       "      <td>NaN</td>\n",
       "      <td>NaN</td>\n",
       "      <td>Photorealistic</td>\n",
       "      <td>False</td>\n",
       "      <td>False</td>\n",
       "      <td>False</td>\n",
       "      <td>NaN</td>\n",
       "    </tr>\n",
       "    <tr>\n",
       "      <th>2</th>\n",
       "      <td>2011</td>\n",
       "      <td>Spring</td>\n",
       "      <td>1</td>\n",
       "      <td>The Secret Mistress</td>\n",
       "      <td>Mary Balogh</td>\n",
       "      <td>Delacorte</td>\n",
       "      <td>7/3/2011</td>\n",
       "      <td>NaN</td>\n",
       "      <td>9780440245292</td>\n",
       "      <td>https://raw.githubusercontent.com/the-pudding/...</td>\n",
       "      <td>...</td>\n",
       "      <td>http://books.google.com/books/content?id=pyqy-...</td>\n",
       "      <td>NaN</td>\n",
       "      <td>http://books.google.com/books/content?id=pyqy-...</td>\n",
       "      <td>NaN</td>\n",
       "      <td>NaN</td>\n",
       "      <td>Photorealistic</td>\n",
       "      <td>False</td>\n",
       "      <td>False</td>\n",
       "      <td>False</td>\n",
       "      <td>NaN</td>\n",
       "    </tr>\n",
       "    <tr>\n",
       "      <th>3</th>\n",
       "      <td>2011</td>\n",
       "      <td>Spring</td>\n",
       "      <td>1</td>\n",
       "      <td>Born of Shadows</td>\n",
       "      <td>Sherrilyn Kenyon</td>\n",
       "      <td>Grand Central</td>\n",
       "      <td>5/1/2011</td>\n",
       "      <td>NaN</td>\n",
       "      <td>9780749954789</td>\n",
       "      <td>https://raw.githubusercontent.com/the-pudding/...</td>\n",
       "      <td>...</td>\n",
       "      <td>http://books.google.com/books/content?id=D_P7T...</td>\n",
       "      <td>NaN</td>\n",
       "      <td>http://books.google.com/books/content?id=D_P7T...</td>\n",
       "      <td>NaN</td>\n",
       "      <td>NaN</td>\n",
       "      <td>Photorealistic</td>\n",
       "      <td>False</td>\n",
       "      <td>False</td>\n",
       "      <td>False</td>\n",
       "      <td>NaN</td>\n",
       "    </tr>\n",
       "    <tr>\n",
       "      <th>4</th>\n",
       "      <td>2011</td>\n",
       "      <td>Spring</td>\n",
       "      <td>1</td>\n",
       "      <td>All Up in My Business</td>\n",
       "      <td>Lutishia Lovely</td>\n",
       "      <td>Kensington/Dafina</td>\n",
       "      <td>3/1/2011</td>\n",
       "      <td>NaN</td>\n",
       "      <td>9780758238702</td>\n",
       "      <td>https://raw.githubusercontent.com/the-pudding/...</td>\n",
       "      <td>...</td>\n",
       "      <td>http://books.google.com/books/content?id=_yoDA...</td>\n",
       "      <td>https://images-na.ssl-images-amazon.com/images...</td>\n",
       "      <td>https://images-na.ssl-images-amazon.com/images...</td>\n",
       "      <td>NaN</td>\n",
       "      <td>NaN</td>\n",
       "      <td>Photorealistic</td>\n",
       "      <td>False</td>\n",
       "      <td>False</td>\n",
       "      <td>True</td>\n",
       "      <td>NaN</td>\n",
       "    </tr>\n",
       "    <tr>\n",
       "      <th>5</th>\n",
       "      <td>2011</td>\n",
       "      <td>Spring</td>\n",
       "      <td>1</td>\n",
       "      <td>His, Unexpectedly</td>\n",
       "      <td>Susan Fox</td>\n",
       "      <td>Kensington/Brava</td>\n",
       "      <td>2/1/2011</td>\n",
       "      <td>NaN</td>\n",
       "      <td>9780758267818</td>\n",
       "      <td>https://raw.githubusercontent.com/the-pudding/...</td>\n",
       "      <td>...</td>\n",
       "      <td>http://books.google.com/books/content?id=t5rOK...</td>\n",
       "      <td>NaN</td>\n",
       "      <td>http://books.google.com/books/content?id=t5rOK...</td>\n",
       "      <td>NaN</td>\n",
       "      <td>NaN</td>\n",
       "      <td>Photorealistic</td>\n",
       "      <td>True</td>\n",
       "      <td>False</td>\n",
       "      <td>False</td>\n",
       "      <td>NaN</td>\n",
       "    </tr>\n",
       "    <tr>\n",
       "      <th>6</th>\n",
       "      <td>2011</td>\n",
       "      <td>Spring</td>\n",
       "      <td>1</td>\n",
       "      <td>Kiss of Snow</td>\n",
       "      <td>Nalini Singh</td>\n",
       "      <td>Berkley</td>\n",
       "      <td>6/1/2011</td>\n",
       "      <td>NaN</td>\n",
       "      <td>9781101528723</td>\n",
       "      <td>https://raw.githubusercontent.com/the-pudding/...</td>\n",
       "      <td>...</td>\n",
       "      <td>http://books.google.com/books/content?id=iNqqx...</td>\n",
       "      <td>NaN</td>\n",
       "      <td>http://books.google.com/books/content?id=iNqqx...</td>\n",
       "      <td>NaN</td>\n",
       "      <td>NaN</td>\n",
       "      <td>Photorealistic</td>\n",
       "      <td>True</td>\n",
       "      <td>False</td>\n",
       "      <td>False</td>\n",
       "      <td>NaN</td>\n",
       "    </tr>\n",
       "    <tr>\n",
       "      <th>7</th>\n",
       "      <td>2011</td>\n",
       "      <td>Spring</td>\n",
       "      <td>1</td>\n",
       "      <td>The Soldier</td>\n",
       "      <td>Grace Burrowes</td>\n",
       "      <td>Sourcebooks Casablanca</td>\n",
       "      <td>6/1/2011</td>\n",
       "      <td>NaN</td>\n",
       "      <td>9781402245695</td>\n",
       "      <td>https://raw.githubusercontent.com/the-pudding/...</td>\n",
       "      <td>...</td>\n",
       "      <td>http://books.google.com/books/content?id=bnXMX...</td>\n",
       "      <td>NaN</td>\n",
       "      <td>http://books.google.com/books/content?id=bnXMX...</td>\n",
       "      <td>NaN</td>\n",
       "      <td>NaN</td>\n",
       "      <td>Photorealistic</td>\n",
       "      <td>True</td>\n",
       "      <td>False</td>\n",
       "      <td>False</td>\n",
       "      <td>NaN</td>\n",
       "    </tr>\n",
       "    <tr>\n",
       "      <th>8</th>\n",
       "      <td>2011</td>\n",
       "      <td>Spring</td>\n",
       "      <td>1</td>\n",
       "      <td>Blood Stains</td>\n",
       "      <td>Sharon Sala</td>\n",
       "      <td>Mira</td>\n",
       "      <td>2/1/2011</td>\n",
       "      <td>NaN</td>\n",
       "      <td>9781426884306</td>\n",
       "      <td>https://raw.githubusercontent.com/the-pudding/...</td>\n",
       "      <td>...</td>\n",
       "      <td>http://books.google.com/books/content?id=5pLjN...</td>\n",
       "      <td>NaN</td>\n",
       "      <td>http://books.google.com/books/content?id=5pLjN...</td>\n",
       "      <td>NaN</td>\n",
       "      <td>NaN</td>\n",
       "      <td>Photorealistic</td>\n",
       "      <td>False</td>\n",
       "      <td>False</td>\n",
       "      <td>False</td>\n",
       "      <td>NaN</td>\n",
       "    </tr>\n",
       "    <tr>\n",
       "      <th>9</th>\n",
       "      <td>2011</td>\n",
       "      <td>Spring</td>\n",
       "      <td>1</td>\n",
       "      <td>A Turn in the Road</td>\n",
       "      <td>Debbie Macomber</td>\n",
       "      <td>Mira</td>\n",
       "      <td>5/1/2011</td>\n",
       "      <td>NaN</td>\n",
       "      <td>9781460398876</td>\n",
       "      <td>https://raw.githubusercontent.com/the-pudding/...</td>\n",
       "      <td>...</td>\n",
       "      <td>http://books.google.com/books/content?id=9Nr1D...</td>\n",
       "      <td>NaN</td>\n",
       "      <td>http://books.google.com/books/content?id=9Nr1D...</td>\n",
       "      <td>NaN</td>\n",
       "      <td>NaN</td>\n",
       "      <td>Photorealistic</td>\n",
       "      <td>False</td>\n",
       "      <td>False</td>\n",
       "      <td>False</td>\n",
       "      <td>NaN</td>\n",
       "    </tr>\n",
       "  </tbody>\n",
       "</table>\n",
       "<p>10 rows × 21 columns</p>\n",
       "</div>"
      ],
      "text/plain": [
       "   year  season  season_order                  title             author  \\\n",
       "0  2011  Spring             1   Too Rich for a Bride       Mona Hodgson   \n",
       "1  2011  Spring             1     Breaking the Rules  Suzanne Brockmann   \n",
       "2  2011  Spring             1    The Secret Mistress        Mary Balogh   \n",
       "3  2011  Spring             1        Born of Shadows   Sherrilyn Kenyon   \n",
       "4  2011  Spring             1  All Up in My Business    Lutishia Lovely   \n",
       "5  2011  Spring             1      His, Unexpectedly          Susan Fox   \n",
       "6  2011  Spring             1           Kiss of Snow       Nalini Singh   \n",
       "7  2011  Spring             1            The Soldier     Grace Burrowes   \n",
       "8  2011  Spring             1           Blood Stains        Sharon Sala   \n",
       "9  2011  Spring             1     A Turn in the Road    Debbie Macomber   \n",
       "\n",
       "                publisher      date description           ISBN  \\\n",
       "0              Waterbrook  5/1/2011         NaN  9780307458926   \n",
       "1              Ballantine  4/1/2011         NaN  9780345521231   \n",
       "2               Delacorte  7/3/2011         NaN  9780440245292   \n",
       "3           Grand Central  5/1/2011         NaN  9780749954789   \n",
       "4       Kensington/Dafina  3/1/2011         NaN  9780758238702   \n",
       "5        Kensington/Brava  2/1/2011         NaN  9780758267818   \n",
       "6                 Berkley  6/1/2011         NaN  9781101528723   \n",
       "7  Sourcebooks Casablanca  6/1/2011         NaN  9781402245695   \n",
       "8                    Mira  2/1/2011         NaN  9781426884306   \n",
       "9                    Mira  5/1/2011         NaN  9781460398876   \n",
       "\n",
       "                                    Github permalink  ...  \\\n",
       "0  https://raw.githubusercontent.com/the-pudding/...  ...   \n",
       "1  https://raw.githubusercontent.com/the-pudding/...  ...   \n",
       "2  https://raw.githubusercontent.com/the-pudding/...  ...   \n",
       "3  https://raw.githubusercontent.com/the-pudding/...  ...   \n",
       "4  https://raw.githubusercontent.com/the-pudding/...  ...   \n",
       "5  https://raw.githubusercontent.com/the-pudding/...  ...   \n",
       "6  https://raw.githubusercontent.com/the-pudding/...  ...   \n",
       "7  https://raw.githubusercontent.com/the-pudding/...  ...   \n",
       "8  https://raw.githubusercontent.com/the-pudding/...  ...   \n",
       "9  https://raw.githubusercontent.com/the-pudding/...  ...   \n",
       "\n",
       "                               google_smallThumbnail  \\\n",
       "0  http://books.google.com/books/content?id=S8dvD...   \n",
       "1  http://books.google.com/books/content?id=TPmrb...   \n",
       "2  http://books.google.com/books/content?id=pyqy-...   \n",
       "3  http://books.google.com/books/content?id=D_P7T...   \n",
       "4  http://books.google.com/books/content?id=_yoDA...   \n",
       "5  http://books.google.com/books/content?id=t5rOK...   \n",
       "6  http://books.google.com/books/content?id=iNqqx...   \n",
       "7  http://books.google.com/books/content?id=bnXMX...   \n",
       "8  http://books.google.com/books/content?id=5pLjN...   \n",
       "9  http://books.google.com/books/content?id=9Nr1D...   \n",
       "\n",
       "                                  Cover URL override  \\\n",
       "0                                                NaN   \n",
       "1                                                NaN   \n",
       "2                                                NaN   \n",
       "3                                                NaN   \n",
       "4  https://images-na.ssl-images-amazon.com/images...   \n",
       "5                                                NaN   \n",
       "6                                                NaN   \n",
       "7                                                NaN   \n",
       "8                                                NaN   \n",
       "9                                                NaN   \n",
       "\n",
       "                                           cover_url Github thumbnail  Cover  \\\n",
       "0  http://books.google.com/books/content?id=S8dvD...              NaN    NaN   \n",
       "1  http://books.google.com/books/content?id=TPmrb...              NaN    NaN   \n",
       "2  http://books.google.com/books/content?id=pyqy-...              NaN    NaN   \n",
       "3  http://books.google.com/books/content?id=D_P7T...              NaN    NaN   \n",
       "4  https://images-na.ssl-images-amazon.com/images...              NaN    NaN   \n",
       "5  http://books.google.com/books/content?id=t5rOK...              NaN    NaN   \n",
       "6  http://books.google.com/books/content?id=iNqqx...              NaN    NaN   \n",
       "7  http://books.google.com/books/content?id=bnXMX...              NaN    NaN   \n",
       "8  http://books.google.com/books/content?id=5pLjN...              NaN    NaN   \n",
       "9  http://books.google.com/books/content?id=9Nr1D...              NaN    NaN   \n",
       "\n",
       "            Style Man partially unclothed  Woman partially unclothed  Has POC  \\\n",
       "0  Photorealistic                   False                      False    False   \n",
       "1  Photorealistic                   False                      False    False   \n",
       "2  Photorealistic                   False                      False    False   \n",
       "3  Photorealistic                   False                      False    False   \n",
       "4  Photorealistic                   False                      False     True   \n",
       "5  Photorealistic                    True                      False    False   \n",
       "6  Photorealistic                    True                      False    False   \n",
       "7  Photorealistic                    True                      False    False   \n",
       "8  Photorealistic                   False                      False    False   \n",
       "9  Photorealistic                   False                      False    False   \n",
       "\n",
       "   Unnamed: 20  \n",
       "0          NaN  \n",
       "1          NaN  \n",
       "2          NaN  \n",
       "3          NaN  \n",
       "4          NaN  \n",
       "5          NaN  \n",
       "6          NaN  \n",
       "7          NaN  \n",
       "8          NaN  \n",
       "9          NaN  \n",
       "\n",
       "[10 rows x 21 columns]"
      ]
     },
     "execution_count": 83,
     "metadata": {},
     "output_type": "execute_result"
    }
   ],
   "source": [
    "covers.head(10)"
   ]
  },
  {
   "attachments": {},
   "cell_type": "markdown",
   "id": "3861e71e-f6bd-48a0-9bde-981b50140343",
   "metadata": {},
   "source": [
    "## Part 1: Pandas"
   ]
  },
  {
   "attachments": {},
   "cell_type": "markdown",
   "id": "31433f2b-cb49-4f90-9afb-9b924c0840b7",
   "metadata": {},
   "source": [
    "## Part 1A Exploration [25 pts]"
   ]
  },
  {
   "attachments": {},
   "cell_type": "markdown",
   "id": "9a014b99-4589-452c-af88-b59f7d067e75",
   "metadata": {},
   "source": [
    "- Q1 [5 pts] How many unique authors? A simple number is sufficient. \n",
    "\n",
    "    Some books have multiple authors. There is no need to parse them out as individual authors. For the purpose of this problem, \"John Smith\" vs \"Jane Adams\" vs \"John Smith and Jane Adams\" will count as three unique authors. You may treat each unique string in the 'author' column as a unique author."
   ]
  },
  {
   "cell_type": "code",
   "execution_count": 84,
   "id": "2e7ba644-f448-4458-a0a8-ca517f2c67f0",
   "metadata": {},
   "outputs": [
    {
     "name": "stdout",
     "output_type": "stream",
     "text": [
      "929\n"
     ]
    }
   ],
   "source": [
    "print(len(pd.unique(covers['author'])))"
   ]
  },
  {
   "attachments": {},
   "cell_type": "markdown",
   "id": "edc2708a-8007-4b21-85b3-87efa08c5824",
   "metadata": {},
   "source": [
    "- Q2 [5 pts] Who were the most prolific authors? Find the top 10 authors that wrote the most amount of books. There is a tie (for 9-16th place). Include everyone who is tied.\n",
    "\n",
    "    Output should be a DataFrame or series with author names in order with the author with the most published books at the top. (I had Debbie Macomber with 13 books)"
   ]
  },
  {
   "cell_type": "code",
   "execution_count": 85,
   "id": "08d4ddd1-7e80-4ffe-9138-de92387549ab",
   "metadata": {},
   "outputs": [
    {
     "data": {
      "text/plain": [
       "author\n",
       "Debbie Macomber     13\n",
       "J.R. Ward           10\n",
       "Grace Burrowes      10\n",
       "Christina Lauren     9\n",
       "Nora Roberts         9\n",
       "Brenda Jackson       8\n",
       "Eloisa James         8\n",
       "Janet Dailey         8\n",
       "Maya Banks           7\n",
       "Susan Mallery        7\n",
       "Julia London         7\n",
       "Sabrina Jeffries     7\n",
       "Adriana Herrera      7\n",
       "Josi S. Kilpack      7\n",
       "Alexis Hall          7\n",
       "Mary Balogh          7\n",
       "Name: count, dtype: int64"
      ]
     },
     "execution_count": 85,
     "metadata": {},
     "output_type": "execute_result"
    }
   ],
   "source": [
    "covers['author'].value_counts()[0:16]"
   ]
  },
  {
   "attachments": {},
   "cell_type": "markdown",
   "id": "221754a5-f0f8-42f1-8ffb-a446c14d5e1e",
   "metadata": {},
   "source": [
    "- Q3 [5 pts] Which publishers printed the most books? Find the publishers that published over 30 books.\n",
    "\n",
    "    Output should be a DataFrame or series with publisher names in order with the publisher with the most published books at the top. (I had Sourcebooks Casablanca with 114 books)\n",
    "    \n",
    "    Similar to the author column, you may treat each unique string in the publisher column as a unique publisher."
   ]
  },
  {
   "cell_type": "code",
   "execution_count": 86,
   "id": "a30c37a8-90a9-4568-815e-88f9e3ae7b28",
   "metadata": {},
   "outputs": [
    {
     "data": {
      "text/plain": [
       "publisher\n",
       "Sourcebooks Casablanca    114\n",
       "Avon                      100\n",
       "Berkley                    83\n",
       "HQN                        44\n",
       "Forever                    44\n",
       "Kensington                 43\n",
       "Bold Strokes               40\n",
       "Zebra                      36\n",
       "Ballantine                 34\n",
       "Mira                       33\n",
       "Morrow                     32\n",
       "St. Martin’s               32\n",
       "Name: count, dtype: int64"
      ]
     },
     "execution_count": 86,
     "metadata": {},
     "output_type": "execute_result"
    }
   ],
   "source": [
    "covers['publisher'].value_counts()[covers['publisher'].value_counts() > 30]"
   ]
  },
  {
   "attachments": {},
   "cell_type": "markdown",
   "id": "cfbf890b-cf04-4c40-9817-a32812b5427f",
   "metadata": {},
   "source": [
    "- Q4 [5 pts] Many authors produce books with the same publisher. Some authors publish books with different publishers. Identify authors who had 5 or more different publishers.\n",
    "\n",
    "    Output should be a DataFrame or series with author names in order with the author with the most number of publishers at the top. (I had Brenda Jackson with 8 publishers)"
   ]
  },
  {
   "cell_type": "code",
   "execution_count": 108,
   "id": "297b403f",
   "metadata": {},
   "outputs": [
    {
     "data": {
      "text/plain": [
       "author\n",
       "Brenda Jackson        8\n",
       "Alexis Hall           5\n",
       "Julia London          5\n",
       "Jude Deveraux         5\n",
       "Priscilla Oliveras    5\n",
       "Name: publisher, dtype: int64"
      ]
     },
     "execution_count": 108,
     "metadata": {},
     "output_type": "execute_result"
    }
   ],
   "source": [
    "count = covers['publisher'].groupby(covers['author']).nunique().sort_values(ascending = False)\n",
    "count[count >= 5]"
   ]
  },
  {
   "attachments": {},
   "cell_type": "markdown",
   "id": "5769fa10-dad0-41fc-a5b7-9d26b84c7853",
   "metadata": {},
   "source": [
    "- Q5 [5 pts] Create a barplot showing how many books were published in each season. Be sure spring comes before fall of each year.\n",
    "\n",
    "    For instance, in spring 2011, there were 10 books published. Then in fall 2011, there were 47 books. Spring 2012 there were 59, etc."
   ]
  },
  {
   "cell_type": "code",
   "execution_count": 113,
   "id": "e6f90048",
   "metadata": {},
   "outputs": [],
   "source": [
    "x = covers.copy()\n",
    "x['season'] = pd.Categorical(covers['season'], categories=['Spring', 'Fall'], ordered=True)\n",
    "ans = x['season'].groupby(x['year']).value_counts().sort_index()"
   ]
  },
  {
   "cell_type": "code",
   "execution_count": 118,
   "id": "7a789ee3-77df-460e-aacf-dbc3984ba5ef",
   "metadata": {},
   "outputs": [
    {
     "data": {
      "image/png": "[encoded data removed]",
      "text/plain": [
       "<Figure size 640x480 with 1 Axes>"
      ]
     },
     "metadata": {},
     "output_type": "display_data"
    }
   ],
   "source": [
    "ax = ans.plot(kind = 'bar', stacked = False)\n",
    "ax.set_xlabel('Year')\n",
    "ax.set_ylabel('Count')\n",
    "ax.set_title('Books Published Per Season')\n",
    "plt.show()"
   ]
  },
  {
   "attachments": {},
   "cell_type": "markdown",
   "id": "naval-publisher",
   "metadata": {},
   "source": [
    "## Part 1B: Cover Traits [35 pts]"
   ]
  },
  {
   "attachments": {},
   "cell_type": "markdown",
   "id": "ordered-african",
   "metadata": {},
   "source": [
    "- Q6 [5 pts] What proportion of book covers have a partial unclothed man? What proportion of book covers have a partial unclothed woman? simple numbers are sufficient."
   ]
  },
  {
   "cell_type": "code",
   "execution_count": 96,
   "id": "098d7ede",
   "metadata": {},
   "outputs": [],
   "source": [
    "men = len(covers[covers['Man partially unclothed'] == True])\n",
    "women = len(covers[covers['Woman partially unclothed'] == True])\n",
    "total = len(covers[['Man partially unclothed']])"
   ]
  },
  {
   "cell_type": "code",
   "execution_count": 99,
   "id": "75db8489",
   "metadata": {},
   "outputs": [
    {
     "name": "stdout",
     "output_type": "stream",
     "text": [
      "Partial Unclothed Men:  0.14912891986062718\n",
      "Partial Unclothed Women:  0.045993031358885016\n"
     ]
    }
   ],
   "source": [
    "print('Partial Unclothed Men: ', men/total)\n",
    "print('Partial Unclothed Women: ', women/total)"
   ]
  },
  {
   "attachments": {},
   "cell_type": "markdown",
   "id": "27665cf2-3493-4099-a3cd-3c6a2c303e7b",
   "metadata": {},
   "source": [
    "- Q7 [10 pts] Create a stacked barplot showing the number of covers with fully clothed and partially unclothed men for each year. \n",
    "\n",
    "    Create another barplot showing the number of covers with fully clothed and partially unclothed women for each year."
   ]
  },
  {
   "cell_type": "code",
   "execution_count": 219,
   "id": "b79dff9d-724f-4af4-9800-17a8e1b008f4",
   "metadata": {},
   "outputs": [
    {
     "data": {
      "image/png": "[encoded data removed]",
      "text/plain": [
       "<Figure size 640x480 with 1 Axes>"
      ]
     },
     "metadata": {},
     "output_type": "display_data"
    }
   ],
   "source": [
    "s = covers['Man partially unclothed'].groupby(covers['year']).value_counts().unstack().plot.bar(stacked = True)\n",
    "plt.xlabel('Year')\n",
    "plt.ylabel('Total')\n",
    "plt.title('Proportion of Fully and Partially Clothed Men Per Year')\n",
    "plt.show()"
   ]
  },
  {
   "cell_type": "code",
   "execution_count": 220,
   "id": "ee69ba24",
   "metadata": {},
   "outputs": [
    {
     "data": {
      "image/png": "[encoded data removed]",
      "text/plain": [
       "<Figure size 640x480 with 1 Axes>"
      ]
     },
     "metadata": {},
     "output_type": "display_data"
    }
   ],
   "source": [
    "covers['Woman partially unclothed'].groupby(covers['year']).value_counts().unstack().plot.bar(stacked = True)\n",
    "plt.xlabel('Year')\n",
    "plt.ylabel('Total')\n",
    "plt.title('Proportion of Fully and Partially Clothed Women Per Year')\n",
    "plt.show()"
   ]
  },
  {
   "attachments": {},
   "cell_type": "markdown",
   "id": "systematic-display",
   "metadata": {},
   "source": [
    "- Q8 [10 pts] Print a table of authors who published more than 2 books and where over half of the covers have a partially undressed man. Print the table in descending order of proportion of covers with a partially undressed man. (At the top of my table I have Tessa Dare with 6 out of 6 books featuring a partially undressed man.) \n",
    "\n",
    "    Do the same, but for partially undressed woman.\n",
    "\n",
    "    You may find it helpful to use the function `.agg()` in combination with `.groupby()`\n",
    "\n",
    "    See the documentation: https://pandas.pydata.org/pandas-docs/stable/reference/api/pandas.core.groupby.DataFrameGroupBy.aggregate.html\n"
   ]
  },
  {
   "cell_type": "code",
   "execution_count": 237,
   "id": "cba553e7",
   "metadata": {},
   "outputs": [
    {
     "data": {
      "text/html": [
       "<div>\n",
       "<style scoped>\n",
       "    .dataframe tbody tr th:only-of-type {\n",
       "        vertical-align: middle;\n",
       "    }\n",
       "\n",
       "    .dataframe tbody tr th {\n",
       "        vertical-align: top;\n",
       "    }\n",
       "\n",
       "    .dataframe thead th {\n",
       "        text-align: right;\n",
       "    }\n",
       "</style>\n",
       "<table border=\"1\" class=\"dataframe\">\n",
       "  <thead>\n",
       "    <tr style=\"text-align: right;\">\n",
       "      <th></th>\n",
       "      <th>title</th>\n",
       "      <th>Man partially unclothed</th>\n",
       "      <th>proportion</th>\n",
       "    </tr>\n",
       "    <tr>\n",
       "      <th>author</th>\n",
       "      <th></th>\n",
       "      <th></th>\n",
       "      <th></th>\n",
       "    </tr>\n",
       "  </thead>\n",
       "  <tbody>\n",
       "    <tr>\n",
       "      <th>Tessa Dare</th>\n",
       "      <td>6</td>\n",
       "      <td>6</td>\n",
       "      <td>1.000000</td>\n",
       "    </tr>\n",
       "    <tr>\n",
       "      <th>Jane Ashford</th>\n",
       "      <td>3</td>\n",
       "      <td>3</td>\n",
       "      <td>1.000000</td>\n",
       "    </tr>\n",
       "    <tr>\n",
       "      <th>Beverly Jenkins</th>\n",
       "      <td>5</td>\n",
       "      <td>4</td>\n",
       "      <td>0.800000</td>\n",
       "    </tr>\n",
       "    <tr>\n",
       "      <th>Isabel Cooper</th>\n",
       "      <td>4</td>\n",
       "      <td>3</td>\n",
       "      <td>0.750000</td>\n",
       "    </tr>\n",
       "    <tr>\n",
       "      <th>Jackie Ashenden</th>\n",
       "      <td>3</td>\n",
       "      <td>2</td>\n",
       "      <td>0.666667</td>\n",
       "    </tr>\n",
       "    <tr>\n",
       "      <th>Lynsay Sands</th>\n",
       "      <td>3</td>\n",
       "      <td>2</td>\n",
       "      <td>0.666667</td>\n",
       "    </tr>\n",
       "    <tr>\n",
       "      <th>Gena Showalter</th>\n",
       "      <td>5</td>\n",
       "      <td>3</td>\n",
       "      <td>0.600000</td>\n",
       "    </tr>\n",
       "    <tr>\n",
       "      <th>Sophie Jordan</th>\n",
       "      <td>5</td>\n",
       "      <td>3</td>\n",
       "      <td>0.600000</td>\n",
       "    </tr>\n",
       "  </tbody>\n",
       "</table>\n",
       "</div>"
      ],
      "text/plain": [
       "                 title  Man partially unclothed  proportion\n",
       "author                                                     \n",
       "Tessa Dare           6                        6    1.000000\n",
       "Jane Ashford         3                        3    1.000000\n",
       "Beverly Jenkins      5                        4    0.800000\n",
       "Isabel Cooper        4                        3    0.750000\n",
       "Jackie Ashenden      3                        2    0.666667\n",
       "Lynsay Sands         3                        2    0.666667\n",
       "Gena Showalter       5                        3    0.600000\n",
       "Sophie Jordan        5                        3    0.600000"
      ]
     },
     "execution_count": 237,
     "metadata": {},
     "output_type": "execute_result"
    }
   ],
   "source": [
    "men = covers.groupby('author').agg({'title':'count', 'Man partially unclothed':'sum'})\n",
    "men['proportion'] = men['Man partially unclothed'] / men['title']\n",
    "men = men.sort_values(['proportion', 'title'], ascending = [False, False])\n",
    "men = men[men['title'] > 2]\n",
    "men[men['proportion'] > 0.5]"
   ]
  },
  {
   "cell_type": "code",
   "execution_count": 238,
   "id": "c056f721",
   "metadata": {},
   "outputs": [
    {
     "data": {
      "text/html": [
       "<div>\n",
       "<style scoped>\n",
       "    .dataframe tbody tr th:only-of-type {\n",
       "        vertical-align: middle;\n",
       "    }\n",
       "\n",
       "    .dataframe tbody tr th {\n",
       "        vertical-align: top;\n",
       "    }\n",
       "\n",
       "    .dataframe thead th {\n",
       "        text-align: right;\n",
       "    }\n",
       "</style>\n",
       "<table border=\"1\" class=\"dataframe\">\n",
       "  <thead>\n",
       "    <tr style=\"text-align: right;\">\n",
       "      <th></th>\n",
       "      <th>title</th>\n",
       "      <th>Woman partially unclothed</th>\n",
       "      <th>proportion</th>\n",
       "    </tr>\n",
       "    <tr>\n",
       "      <th>author</th>\n",
       "      <th></th>\n",
       "      <th></th>\n",
       "      <th></th>\n",
       "    </tr>\n",
       "  </thead>\n",
       "  <tbody>\n",
       "    <tr>\n",
       "      <th>Rachel Kramer Bussel</th>\n",
       "      <td>6</td>\n",
       "      <td>5</td>\n",
       "      <td>0.833333</td>\n",
       "    </tr>\n",
       "  </tbody>\n",
       "</table>\n",
       "</div>"
      ],
      "text/plain": [
       "                      title  Woman partially unclothed  proportion\n",
       "author                                                            \n",
       "Rachel Kramer Bussel      6                          5    0.833333"
      ]
     },
     "execution_count": 238,
     "metadata": {},
     "output_type": "execute_result"
    }
   ],
   "source": [
    "w = covers.groupby('author').agg({'title':'count', 'Woman partially unclothed':'sum'})\n",
    "w['proportion'] = w['Woman partially unclothed'] / w['title']\n",
    "w = w.sort_values(['proportion', 'title'], ascending = [False, False])\n",
    "w = w[w['title'] > 2]\n",
    "w[w['proportion'] > 0.5]"
   ]
  },
  {
   "attachments": {},
   "cell_type": "markdown",
   "id": "4d7dc524-4fa6-406b-a4a8-1ce5c9479fbe",
   "metadata": {},
   "source": [
    "- Q9 [10 pts] Identify publishers that frequently feature people of color on their covers. (Publishers where over half of the covers feature a person of color)."
   ]
  },
  {
   "cell_type": "code",
   "execution_count": 224,
   "id": "d8d5baf5",
   "metadata": {},
   "outputs": [
    {
     "data": {
      "text/plain": [
       "publisher\n",
       "Kensington/Dafina            1.000000\n",
       "Kimani                       1.000000\n",
       "Harlequin Presents           1.000000\n",
       "Harlequin Kimani             1.000000\n",
       "Harlequin Romance            1.000000\n",
       "Harlequin Desire             1.000000\n",
       "W by Wattpad                 1.000000\n",
       "Strebor                      1.000000\n",
       "Sideways                     1.000000\n",
       "bold strokes                 1.000000\n",
       "Dafina                       0.846154\n",
       "Harlequin/Kimani             0.750000\n",
       "Harlequin Special Edition    0.666667\n",
       "Harlequin                    0.666667\n",
       "Microcosm                    0.666667\n",
       "Montlake                     0.571429\n",
       "dtype: float64"
      ]
     },
     "execution_count": 224,
     "metadata": {},
     "output_type": "execute_result"
    }
   ],
   "source": [
    "x = covers['Has POC'].groupby(covers['publisher']).value_counts().unstack().fillna(0).sort_values(by = True, ascending = False)\n",
    "ratio = x[True] / (x[True] + x[False])\n",
    "ratio[ratio.values > 0.5].sort_values(ascending = False)"
   ]
  },
  {
   "attachments": {},
   "cell_type": "markdown",
   "id": "civilian-testing",
   "metadata": {},
   "source": [
    "## Part 2"
   ]
  },
  {
   "attachments": {},
   "cell_type": "markdown",
   "id": "disabled-hammer",
   "metadata": {},
   "source": [
    "### Function [20 pts]\n",
    "\n",
    "Wordle is a word game where players try to guess a mystery 5-letter word. \n",
    "\n",
    "You can play it here: https://www.nytimes.com/games/wordle/index.html\n",
    "\n",
    "In the real game, each guess the player makes must be a real 5-letter word. We will not check for this condition in our game.\n",
    "\n",
    "When the player submits a word as a guess, Wordle provides feedback.\n",
    "\n",
    "If a letter is in the word and in the correct position, print the letter surrounded with stars.\n",
    "\n",
    "If a letter is in the word but in the incorrect spot, print the letter (with no stars).\n",
    "\n",
    "If a letter is not in the word in any spot, output an underscore.\n",
    "\n",
    "Example:\n",
    "\n",
    "- mystery word: WEARY\n",
    "- guess entry: WORDS\n",
    "- output: '*W* _ R _ _'\n",
    "\n",
    "Write a function `wordle(solution, guess)` that will give player information about the mystery word in accordance with the wordle rules.\n",
    "\n",
    "The arguments are:\n",
    "\n",
    "- `solution` the mystery word (could be lowercase or uppercase)\n",
    "- `guess` the word the player submits as a guess (could be lowercase or uppercase)\n",
    "\n",
    "The function should return the output as a string.\n",
    "\n",
    "You only need to pass the test cases to get full credit."
   ]
  },
  {
   "attachments": {},
   "cell_type": "markdown",
   "id": "68af2fb5-c847-4a19-a262-df16840abb38",
   "metadata": {},
   "source": [
    "- Q10 [20 pts]"
   ]
  },
  {
   "cell_type": "code",
   "execution_count": 189,
   "id": "controversial-expert",
   "metadata": {},
   "outputs": [],
   "source": [
    "def wordle(solution, guess):\n",
    "    s = ''\n",
    "    solution, guess = solution.upper(), guess.upper()\n",
    "    for i in range(len(guess)):\n",
    "        if guess[i] == solution[i]:\n",
    "            s += f'*{guess[i]}* '\n",
    "        elif guess[i] in solution:\n",
    "            s += f'{guess[i]} '\n",
    "        else:\n",
    "            s += '_ '\n",
    "    return s"
   ]
  },
  {
   "cell_type": "code",
   "execution_count": 190,
   "id": "a8957f06-e537-494f-a8ff-6ee42f5fa0cb",
   "metadata": {},
   "outputs": [],
   "source": [
    "mystery = \"WEARY\""
   ]
  },
  {
   "cell_type": "code",
   "execution_count": 191,
   "id": "similar-mercy",
   "metadata": {},
   "outputs": [
    {
     "data": {
      "text/plain": [
       "'*W* _ R _ _ '"
      ]
     },
     "execution_count": 191,
     "metadata": {},
     "output_type": "execute_result"
    }
   ],
   "source": [
    "# test case do not modify\n",
    "# output should be: '*W* _ R _ _'\n",
    "wordle(mystery, \"WORDS\")"
   ]
  },
  {
   "cell_type": "code",
   "execution_count": 192,
   "id": "fitted-linux",
   "metadata": {},
   "outputs": [
    {
     "data": {
      "text/plain": [
       "'A _ _ E _ '"
      ]
     },
     "execution_count": 192,
     "metadata": {},
     "output_type": "execute_result"
    }
   ],
   "source": [
    "# test case do not modify\n",
    "# output should be: 'A _ _ E _'\n",
    "wordle(mystery, \"adieu\")"
   ]
  },
  {
   "cell_type": "code",
   "execution_count": 193,
   "id": "thermal-corrections",
   "metadata": {},
   "outputs": [
    {
     "data": {
      "text/plain": [
       "'*W* *E* *A* *R* *Y* '"
      ]
     },
     "execution_count": 193,
     "metadata": {},
     "output_type": "execute_result"
    }
   ],
   "source": [
    "# test case do not modify\n",
    "# output should be: '*W* *E* *A* *R* *Y*'\n",
    "wordle(mystery, \"weary\")"
   ]
  },
  {
   "cell_type": "code",
   "execution_count": 194,
   "id": "59130731-9dbc-4545-9dc5-b77e67127f6b",
   "metadata": {},
   "outputs": [
    {
     "data": {
      "text/plain": [
       "'E *L* *E* _ _ '"
      ]
     },
     "execution_count": 194,
     "metadata": {},
     "output_type": "execute_result"
    }
   ],
   "source": [
    "# test case do not modify\n",
    "# output should be: 'E *L* *E* _ _'\n",
    "wordle(\"sleep\", \"elect\")"
   ]
  },
  {
   "attachments": {},
   "cell_type": "markdown",
   "id": "compact-netherlands",
   "metadata": {},
   "source": [
    "## Class Definition [20 pts]\n",
    "\n",
    "Define a class, `Account`, which will be used to store a bank account.\n",
    "\n",
    "The `Account` class will hold info:\n",
    "\n",
    "- `name`: a string with the account holder's name\n",
    "- `balance`: a float to  represent the money in the account.\n",
    "\n",
    "The class should have the following behaviors:\n",
    "\n",
    "- A new account for \"Miles\" with \\$101.50 can be created with `Account('Miles', 101.5)`. If no name is provided, the default name should be 'anon', and the default starting balance should be 0.\n",
    "- The string representation of the account is: `name's account. Balance: $x`. For example, `Miles's account. Balance: $101.50`. There should be two places after the decimal.\n",
    "- Create a method `deposit(x)`. You may assume `x` will always be positive. It will deposit `x` dollars to the account. After depositing, it will print the new balance to the screen.\n",
    "- Create a method `withdraw(x)`. You may assume `x` will always be positive. It will first check to see if the balance is at least as large as `x`. If the balance is less than `x`, it will raise a ValueError exception. If the balance is greater than `x`, it will deduct `x` dollars from the account and print the new balance to the screen.\n",
    "- You should be able to compare one Account instance with another Account instance by comparing the dollar amounts in them.\n",
    "- If you add one account with another account, it will combine the balances together. The name on the new account will be `name1 and name2`. For example:\n",
    "    - `acct1 = Account(\"Miles\", 101.5)`\n",
    "    - `acct2 = Account(\"Krystal\", 120)`\n",
    "    - `acct3 = acct1 + acct2`. `print(acct3)` produces `Miles and Krystal's account. Balance: $221.50`\n"
   ]
  },
  {
   "attachments": {},
   "cell_type": "markdown",
   "id": "7c2b21f4-ac8f-45d1-8cfe-116cd4c428c1",
   "metadata": {},
   "source": [
    "- Q11 [20 pts]"
   ]
  },
  {
   "cell_type": "code",
   "execution_count": 176,
   "id": "irish-simulation",
   "metadata": {},
   "outputs": [],
   "source": [
    "class Account:\n",
    "    def __init__(self, name = 'anon', balance = 0):\n",
    "        self.name = name\n",
    "        self.balance = balance\n",
    "    def __str__(self):\n",
    "        return f\"{self.name}'s account. Balance: ${self.balance:.2f}\"\n",
    "    def deposit(self, x):\n",
    "        self.balance += x\n",
    "        return self.balance\n",
    "    def withdraw(self, x):\n",
    "        if (self.balance - x) < 0:\n",
    "            raise ValueError('Withdrawal Makes You Broke')\n",
    "        else:\n",
    "            self.balance -= x\n",
    "        return self.balance\n",
    "    def __lt__(self, other):\n",
    "        return (self.balance < other.balance)\n",
    "    def __add__(self, other):\n",
    "        return Account(f'{self.name} and {other.name}', self.balance + other.balance)      "
   ]
  },
  {
   "cell_type": "code",
   "execution_count": 177,
   "id": "persistent-funds",
   "metadata": {},
   "outputs": [],
   "source": [
    "# test cases. do not modify\n",
    "acct1 = Account(\"Miles\", 101.5)"
   ]
  },
  {
   "cell_type": "code",
   "execution_count": 178,
   "id": "active-letters",
   "metadata": {},
   "outputs": [
    {
     "name": "stdout",
     "output_type": "stream",
     "text": [
      "Miles's account. Balance: $101.50\n"
     ]
    }
   ],
   "source": [
    "print(acct1)"
   ]
  },
  {
   "cell_type": "code",
   "execution_count": 179,
   "id": "binding-boxing",
   "metadata": {},
   "outputs": [
    {
     "data": {
      "text/plain": [
       "121.5"
      ]
     },
     "execution_count": 179,
     "metadata": {},
     "output_type": "execute_result"
    }
   ],
   "source": [
    "acct1.deposit(20)"
   ]
  },
  {
   "cell_type": "code",
   "execution_count": 180,
   "id": "patient-pastor",
   "metadata": {},
   "outputs": [
    {
     "data": {
      "text/plain": [
       "101.5"
      ]
     },
     "execution_count": 180,
     "metadata": {},
     "output_type": "execute_result"
    }
   ],
   "source": [
    "acct1.withdraw(20)"
   ]
  },
  {
   "cell_type": "code",
   "execution_count": 181,
   "id": "metric-composer",
   "metadata": {
    "tags": [
     "raises-exception"
    ]
   },
   "outputs": [
    {
     "ename": "ValueError",
     "evalue": "Withdrawal Makes You Broke",
     "output_type": "error",
     "traceback": [
      "\u001b[0;31m---------------------------------------------------------------------------\u001b[0m",
      "\u001b[0;31mValueError\u001b[0m                                Traceback (most recent call last)",
      "Cell \u001b[0;32mIn[181], line 1\u001b[0m\n\u001b[0;32m----> 1\u001b[0m acct1\u001b[39m.\u001b[39;49mwithdraw(\u001b[39m200\u001b[39;49m)\n",
      "Cell \u001b[0;32mIn[176], line 12\u001b[0m, in \u001b[0;36mAccount.withdraw\u001b[0;34m(self, x)\u001b[0m\n\u001b[1;32m     10\u001b[0m \u001b[39mdef\u001b[39;00m \u001b[39mwithdraw\u001b[39m(\u001b[39mself\u001b[39m, x):\n\u001b[1;32m     11\u001b[0m     \u001b[39mif\u001b[39;00m (\u001b[39mself\u001b[39m\u001b[39m.\u001b[39mbalance \u001b[39m-\u001b[39m x) \u001b[39m<\u001b[39m \u001b[39m0\u001b[39m:\n\u001b[0;32m---> 12\u001b[0m         \u001b[39mraise\u001b[39;00m \u001b[39mValueError\u001b[39;00m(\u001b[39m'\u001b[39m\u001b[39mWithdrawal Makes You Broke\u001b[39m\u001b[39m'\u001b[39m)\n\u001b[1;32m     13\u001b[0m     \u001b[39melse\u001b[39;00m:\n\u001b[1;32m     14\u001b[0m         \u001b[39mself\u001b[39m\u001b[39m.\u001b[39mbalance \u001b[39m-\u001b[39m\u001b[39m=\u001b[39m x\n",
      "\u001b[0;31mValueError\u001b[0m: Withdrawal Makes You Broke"
     ]
    }
   ],
   "source": [
    "acct1.withdraw(200)"
   ]
  },
  {
   "cell_type": "code",
   "execution_count": 182,
   "id": "eligible-drinking",
   "metadata": {},
   "outputs": [
    {
     "data": {
      "text/plain": [
       "101.5"
      ]
     },
     "execution_count": 182,
     "metadata": {},
     "output_type": "execute_result"
    }
   ],
   "source": [
    "acct1.withdraw(0)"
   ]
  },
  {
   "cell_type": "code",
   "execution_count": 183,
   "id": "developed-dress",
   "metadata": {},
   "outputs": [],
   "source": [
    "acct2 = Account(\"Krystal\", 120)"
   ]
  },
  {
   "cell_type": "code",
   "execution_count": 184,
   "id": "secret-hampton",
   "metadata": {},
   "outputs": [
    {
     "name": "stdout",
     "output_type": "stream",
     "text": [
      "Krystal's account. Balance: $120.00\n"
     ]
    }
   ],
   "source": [
    "print(acct2)"
   ]
  },
  {
   "cell_type": "code",
   "execution_count": 185,
   "id": "another-carry",
   "metadata": {},
   "outputs": [
    {
     "data": {
      "text/plain": [
       "False"
      ]
     },
     "execution_count": 185,
     "metadata": {},
     "output_type": "execute_result"
    }
   ],
   "source": [
    "acct1 > acct2"
   ]
  },
  {
   "cell_type": "code",
   "execution_count": 186,
   "id": "simple-missouri",
   "metadata": {},
   "outputs": [
    {
     "data": {
      "text/plain": [
       "True"
      ]
     },
     "execution_count": 186,
     "metadata": {},
     "output_type": "execute_result"
    }
   ],
   "source": [
    "acct1 < acct2"
   ]
  },
  {
   "cell_type": "code",
   "execution_count": 187,
   "id": "contemporary-height",
   "metadata": {},
   "outputs": [],
   "source": [
    "acct3 = acct1 + acct2"
   ]
  },
  {
   "cell_type": "code",
   "execution_count": 188,
   "id": "political-democracy",
   "metadata": {},
   "outputs": [
    {
     "name": "stdout",
     "output_type": "stream",
     "text": [
      "Miles and Krystal's account. Balance: $221.50\n"
     ]
    }
   ],
   "source": [
    "print(acct3)"
   ]
  }
 ],
 "metadata": {
  "kernelspec": {
   "display_name": "Python 3 (ipykernel)",
   "language": "python",
   "name": "python3"
  },
  "language_info": {
   "codemirror_mode": {
    "name": "ipython",
    "version": 3
   },
   "file_extension": ".py",
   "mimetype": "text/x-python",
   "name": "python",
   "nbconvert_exporter": "python",
   "pygments_lexer": "ipython3",
   "version": "3.9.6"
  }
 },
 "nbformat": 4,
 "nbformat_minor": 5
}
